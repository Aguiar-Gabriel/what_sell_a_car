{
 "cells": [
  {
   "cell_type": "markdown",
   "metadata": {},
   "source": [
    "# O que vende um carro?\n",
    "\n",
    "Segue aqui um projeto de EDA, Análise exploratória de dados (Exploratory data analysis), da Lista de Eixo de Manivela. Centenas de propagandas gratuitas de veículos são publicadas no site todos os dias. É necessário estudar os dados coletados nos últimos anos e determinar quais fatores influenciaram o preço de um veículo."
   ]
  },
  {
   "cell_type": "markdown",
   "metadata": {},
   "source": [
    "## Iniciação"
   ]
  },
  {
   "cell_type": "markdown",
   "metadata": {},
   "source": [
    "- Carregando pandas para o manejo do banco de dados\n",
    "- Matplotlib para desfrutar da vizualização gráfica dos dados\n",
    "- Statistics para cálculos de estatística\n",
    "- Datetime para formatação das datas na coluna referente ao dia no calendário\n",
    "- Seaborn como complemento ao matplotlib"
   ]
  },
  {
   "cell_type": "code",
   "execution_count": 1,
   "metadata": {},
   "outputs": [],
   "source": [
    "# Carregando todas as bibliotecas\n",
    "import pandas as pd\n",
    "import matplotlib as plot\n",
    "import statistics\n",
    "import datetime as dt\n",
    "from scipy.stats import chisquare\n",
    "import matplotlib.pyplot as plt\n",
    "import seaborn as sns"
   ]
  },
  {
   "cell_type": "markdown",
   "metadata": {},
   "source": [
    "### Carregando dados"
   ]
  },
  {
   "cell_type": "markdown",
   "metadata": {},
   "source": [
    "Carregando o dataframe."
   ]
  },
  {
   "cell_type": "code",
   "execution_count": 2,
   "metadata": {},
   "outputs": [],
   "source": [
    "# Carregando o arquivo com os dados em um DataFrame\n",
    "df=pd.read_csv(r'C:\\Users\\gabri\\OneDrive\\vehicles_us.csv')"
   ]
  },
  {
   "cell_type": "markdown",
   "metadata": {},
   "source": [
    "### Explorando os dados iniciais"
   ]
  },
  {
   "cell_type": "markdown",
   "metadata": {},
   "source": [
    "O conjunto de dados contém os seguintes campos:\n",
    "- `price`\n",
    "- `model_year`\n",
    "- `model`\n",
    "- `condition`\n",
    "- `cylinders`\n",
    "- `fuel` — gasolina, diesel etc.\n",
    "- `odometer` — a quilometragem do veículo quando a propaganda foi publicada \n",
    "- `transmission`\n",
    "- `paint_color`\n",
    "- `is_4wd` — Se o veículo é 4 por 4 (tipo Booleano)\n",
    "- `date_posted` — a data que a propaganda foi publicada\n",
    "- `days_listed` — dias desde a publicação até a retirada\n"
   ]
  },
  {
   "cell_type": "code",
   "execution_count": 3,
   "metadata": {},
   "outputs": [
    {
     "name": "stdout",
     "output_type": "stream",
     "text": [
      "<class 'pandas.core.frame.DataFrame'>\n",
      "RangeIndex: 51525 entries, 0 to 51524\n",
      "Data columns (total 13 columns):\n",
      " #   Column        Non-Null Count  Dtype  \n",
      "---  ------        --------------  -----  \n",
      " 0   price         51525 non-null  int64  \n",
      " 1   model_year    47906 non-null  float64\n",
      " 2   model         51525 non-null  object \n",
      " 3   condition     51525 non-null  object \n",
      " 4   cylinders     46265 non-null  float64\n",
      " 5   fuel          51525 non-null  object \n",
      " 6   odometer      43633 non-null  float64\n",
      " 7   transmission  51525 non-null  object \n",
      " 8   type          51525 non-null  object \n",
      " 9   paint_color   42258 non-null  object \n",
      " 10  is_4wd        25572 non-null  float64\n",
      " 11  date_posted   51525 non-null  object \n",
      " 12  days_listed   51525 non-null  int64  \n",
      "dtypes: float64(4), int64(2), object(7)\n",
      "memory usage: 5.1+ MB\n"
     ]
    }
   ],
   "source": [
    "# Imprimindo  as informações gerais/resumidas sobre o DataFrame\n",
    "df.info()"
   ]
  },
  {
   "cell_type": "code",
   "execution_count": 4,
   "metadata": {},
   "outputs": [
    {
     "data": {
      "text/html": [
       "<div>\n",
       "<style scoped>\n",
       "    .dataframe tbody tr th:only-of-type {\n",
       "        vertical-align: middle;\n",
       "    }\n",
       "\n",
       "    .dataframe tbody tr th {\n",
       "        vertical-align: top;\n",
       "    }\n",
       "\n",
       "    .dataframe thead th {\n",
       "        text-align: right;\n",
       "    }\n",
       "</style>\n",
       "<table border=\"1\" class=\"dataframe\">\n",
       "  <thead>\n",
       "    <tr style=\"text-align: right;\">\n",
       "      <th></th>\n",
       "      <th>price</th>\n",
       "      <th>model_year</th>\n",
       "      <th>model</th>\n",
       "      <th>condition</th>\n",
       "      <th>cylinders</th>\n",
       "      <th>fuel</th>\n",
       "      <th>odometer</th>\n",
       "      <th>transmission</th>\n",
       "      <th>type</th>\n",
       "      <th>paint_color</th>\n",
       "      <th>is_4wd</th>\n",
       "      <th>date_posted</th>\n",
       "      <th>days_listed</th>\n",
       "    </tr>\n",
       "  </thead>\n",
       "  <tbody>\n",
       "    <tr>\n",
       "      <th>0</th>\n",
       "      <td>9400</td>\n",
       "      <td>2011.0</td>\n",
       "      <td>bmw x5</td>\n",
       "      <td>good</td>\n",
       "      <td>6.0</td>\n",
       "      <td>gas</td>\n",
       "      <td>145000.0</td>\n",
       "      <td>automatic</td>\n",
       "      <td>SUV</td>\n",
       "      <td>NaN</td>\n",
       "      <td>1.0</td>\n",
       "      <td>2018-06-23</td>\n",
       "      <td>19</td>\n",
       "    </tr>\n",
       "    <tr>\n",
       "      <th>1</th>\n",
       "      <td>25500</td>\n",
       "      <td>NaN</td>\n",
       "      <td>ford f-150</td>\n",
       "      <td>good</td>\n",
       "      <td>6.0</td>\n",
       "      <td>gas</td>\n",
       "      <td>88705.0</td>\n",
       "      <td>automatic</td>\n",
       "      <td>pickup</td>\n",
       "      <td>white</td>\n",
       "      <td>1.0</td>\n",
       "      <td>2018-10-19</td>\n",
       "      <td>50</td>\n",
       "    </tr>\n",
       "    <tr>\n",
       "      <th>2</th>\n",
       "      <td>5500</td>\n",
       "      <td>2013.0</td>\n",
       "      <td>hyundai sonata</td>\n",
       "      <td>like new</td>\n",
       "      <td>4.0</td>\n",
       "      <td>gas</td>\n",
       "      <td>110000.0</td>\n",
       "      <td>automatic</td>\n",
       "      <td>sedan</td>\n",
       "      <td>red</td>\n",
       "      <td>NaN</td>\n",
       "      <td>2019-02-07</td>\n",
       "      <td>79</td>\n",
       "    </tr>\n",
       "    <tr>\n",
       "      <th>3</th>\n",
       "      <td>1500</td>\n",
       "      <td>2003.0</td>\n",
       "      <td>ford f-150</td>\n",
       "      <td>fair</td>\n",
       "      <td>8.0</td>\n",
       "      <td>gas</td>\n",
       "      <td>NaN</td>\n",
       "      <td>automatic</td>\n",
       "      <td>pickup</td>\n",
       "      <td>NaN</td>\n",
       "      <td>NaN</td>\n",
       "      <td>2019-03-22</td>\n",
       "      <td>9</td>\n",
       "    </tr>\n",
       "    <tr>\n",
       "      <th>4</th>\n",
       "      <td>14900</td>\n",
       "      <td>2017.0</td>\n",
       "      <td>chrysler 200</td>\n",
       "      <td>excellent</td>\n",
       "      <td>4.0</td>\n",
       "      <td>gas</td>\n",
       "      <td>80903.0</td>\n",
       "      <td>automatic</td>\n",
       "      <td>sedan</td>\n",
       "      <td>black</td>\n",
       "      <td>NaN</td>\n",
       "      <td>2019-04-02</td>\n",
       "      <td>28</td>\n",
       "    </tr>\n",
       "  </tbody>\n",
       "</table>\n",
       "</div>"
      ],
      "text/plain": [
       "   price  model_year           model  condition  cylinders fuel  odometer  \\\n",
       "0   9400      2011.0          bmw x5       good        6.0  gas  145000.0   \n",
       "1  25500         NaN      ford f-150       good        6.0  gas   88705.0   \n",
       "2   5500      2013.0  hyundai sonata   like new        4.0  gas  110000.0   \n",
       "3   1500      2003.0      ford f-150       fair        8.0  gas       NaN   \n",
       "4  14900      2017.0    chrysler 200  excellent        4.0  gas   80903.0   \n",
       "\n",
       "  transmission    type paint_color  is_4wd date_posted  days_listed  \n",
       "0    automatic     SUV         NaN     1.0  2018-06-23           19  \n",
       "1    automatic  pickup       white     1.0  2018-10-19           50  \n",
       "2    automatic   sedan         red     NaN  2019-02-07           79  \n",
       "3    automatic  pickup         NaN     NaN  2019-03-22            9  \n",
       "4    automatic   sedan       black     NaN  2019-04-02           28  "
      ]
     },
     "execution_count": 4,
     "metadata": {},
     "output_type": "execute_result"
    }
   ],
   "source": [
    "# Imprimindo uma amostragem dos dados\n",
    "df.head()"
   ]
  },
  {
   "cell_type": "code",
   "execution_count": 5,
   "metadata": {},
   "outputs": [
    {
     "data": {
      "text/plain": [
       "(51525, 13)"
      ]
     },
     "execution_count": 5,
     "metadata": {},
     "output_type": "execute_result"
    }
   ],
   "source": [
    "#Imprimindo forma do dataframe.\n",
    "df.shape"
   ]
  },
  {
   "cell_type": "code",
   "execution_count": 6,
   "metadata": {},
   "outputs": [
    {
     "data": {
      "text/html": [
       "<div>\n",
       "<style scoped>\n",
       "    .dataframe tbody tr th:only-of-type {\n",
       "        vertical-align: middle;\n",
       "    }\n",
       "\n",
       "    .dataframe tbody tr th {\n",
       "        vertical-align: top;\n",
       "    }\n",
       "\n",
       "    .dataframe thead th {\n",
       "        text-align: right;\n",
       "    }\n",
       "</style>\n",
       "<table border=\"1\" class=\"dataframe\">\n",
       "  <thead>\n",
       "    <tr style=\"text-align: right;\">\n",
       "      <th></th>\n",
       "      <th>price</th>\n",
       "      <th>model_year</th>\n",
       "      <th>cylinders</th>\n",
       "      <th>odometer</th>\n",
       "      <th>is_4wd</th>\n",
       "      <th>days_listed</th>\n",
       "    </tr>\n",
       "  </thead>\n",
       "  <tbody>\n",
       "    <tr>\n",
       "      <th>count</th>\n",
       "      <td>51525.000000</td>\n",
       "      <td>47906.000000</td>\n",
       "      <td>46265.000000</td>\n",
       "      <td>43633.000000</td>\n",
       "      <td>25572.0</td>\n",
       "      <td>51525.00000</td>\n",
       "    </tr>\n",
       "    <tr>\n",
       "      <th>mean</th>\n",
       "      <td>12132.464920</td>\n",
       "      <td>2009.750470</td>\n",
       "      <td>6.125235</td>\n",
       "      <td>115553.461738</td>\n",
       "      <td>1.0</td>\n",
       "      <td>39.55476</td>\n",
       "    </tr>\n",
       "    <tr>\n",
       "      <th>std</th>\n",
       "      <td>10040.803015</td>\n",
       "      <td>6.282065</td>\n",
       "      <td>1.660360</td>\n",
       "      <td>65094.611341</td>\n",
       "      <td>0.0</td>\n",
       "      <td>28.20427</td>\n",
       "    </tr>\n",
       "    <tr>\n",
       "      <th>min</th>\n",
       "      <td>1.000000</td>\n",
       "      <td>1908.000000</td>\n",
       "      <td>3.000000</td>\n",
       "      <td>0.000000</td>\n",
       "      <td>1.0</td>\n",
       "      <td>0.00000</td>\n",
       "    </tr>\n",
       "    <tr>\n",
       "      <th>25%</th>\n",
       "      <td>5000.000000</td>\n",
       "      <td>2006.000000</td>\n",
       "      <td>4.000000</td>\n",
       "      <td>70000.000000</td>\n",
       "      <td>1.0</td>\n",
       "      <td>19.00000</td>\n",
       "    </tr>\n",
       "    <tr>\n",
       "      <th>50%</th>\n",
       "      <td>9000.000000</td>\n",
       "      <td>2011.000000</td>\n",
       "      <td>6.000000</td>\n",
       "      <td>113000.000000</td>\n",
       "      <td>1.0</td>\n",
       "      <td>33.00000</td>\n",
       "    </tr>\n",
       "    <tr>\n",
       "      <th>75%</th>\n",
       "      <td>16839.000000</td>\n",
       "      <td>2014.000000</td>\n",
       "      <td>8.000000</td>\n",
       "      <td>155000.000000</td>\n",
       "      <td>1.0</td>\n",
       "      <td>53.00000</td>\n",
       "    </tr>\n",
       "    <tr>\n",
       "      <th>max</th>\n",
       "      <td>375000.000000</td>\n",
       "      <td>2019.000000</td>\n",
       "      <td>12.000000</td>\n",
       "      <td>990000.000000</td>\n",
       "      <td>1.0</td>\n",
       "      <td>271.00000</td>\n",
       "    </tr>\n",
       "  </tbody>\n",
       "</table>\n",
       "</div>"
      ],
      "text/plain": [
       "               price    model_year     cylinders       odometer   is_4wd  \\\n",
       "count   51525.000000  47906.000000  46265.000000   43633.000000  25572.0   \n",
       "mean    12132.464920   2009.750470      6.125235  115553.461738      1.0   \n",
       "std     10040.803015      6.282065      1.660360   65094.611341      0.0   \n",
       "min         1.000000   1908.000000      3.000000       0.000000      1.0   \n",
       "25%      5000.000000   2006.000000      4.000000   70000.000000      1.0   \n",
       "50%      9000.000000   2011.000000      6.000000  113000.000000      1.0   \n",
       "75%     16839.000000   2014.000000      8.000000  155000.000000      1.0   \n",
       "max    375000.000000   2019.000000     12.000000  990000.000000      1.0   \n",
       "\n",
       "       days_listed  \n",
       "count  51525.00000  \n",
       "mean      39.55476  \n",
       "std       28.20427  \n",
       "min        0.00000  \n",
       "25%       19.00000  \n",
       "50%       33.00000  \n",
       "75%       53.00000  \n",
       "max      271.00000  "
      ]
     },
     "execution_count": 6,
     "metadata": {},
     "output_type": "execute_result"
    }
   ],
   "source": [
    "#Imprimindo dados gerais do dataframe.\n",
    "df.describe()"
   ]
  },
  {
   "cell_type": "markdown",
   "metadata": {},
   "source": [
    "Há valores ausentes em model_year, is4wd, odometer e cylinders.\n",
    "Como são muitos, serão analisados e preenchidos da forma apropriada."
   ]
  },
  {
   "cell_type": "markdown",
   "metadata": {},
   "source": [
    "### Valores ausentes do ano do modelo do carro, odômetro, cor e o sistema de tração do motor devem ser analisados atentamente."
   ]
  },
  {
   "cell_type": "markdown",
   "metadata": {},
   "source": [
    "Algumas colunas estão com o tipo de dado incorreto, serão analisadas e corrigidas:\n",
    "- Model Year\n",
    "- Condition\n",
    "- Cylinders\n",
    "- Is 4wd\n",
    "- Date Posted"
   ]
  },
  {
   "cell_type": "markdown",
   "metadata": {},
   "source": [
    "### O tipo de valor da coluna 'is_4wd' deveria ser booleano, 'model_year' deveria ser inteiro, cilindros deveria ter o tipo inteiro, 'date_posted' e 'days_listed' deveriam ter o valor date."
   ]
  },
  {
   "cell_type": "markdown",
   "metadata": {},
   "source": [
    "Os dados ausentes de is_4wd se devem provavelmente ao uso de zero com um tipo de dado incorreto, ao tentar simbolizar falso o dataframe o aceitou como nulo. Os outros dados vazios podem ter sido deixados vazios quando colocados no site."
   ]
  },
  {
   "cell_type": "markdown",
   "metadata": {},
   "source": [
    "### É provável que os valores ausentes da coluna 'is_4wd' devem se referir aos carros sem esse sistema."
   ]
  },
  {
   "cell_type": "markdown",
   "metadata": {},
   "source": [
    "### Conclusões e próximos passos\n",
    "\n",
    "Será realizada a correção dos tipos de dados para assim poderem passar pelo processo de tratamento e preenchimento. Os dados da condição vão ser categorizados em inteiros, para futuramente calcular a correlação dele com outros aspectos da tabela e preencher dados vazios."
   ]
  },
  {
   "cell_type": "markdown",
   "metadata": {},
   "source": [
    "### Criando função para categorizar a condição do carro e a partir dela preencher dados ausentes."
   ]
  },
  {
   "cell_type": "code",
   "execution_count": 7,
   "metadata": {},
   "outputs": [
    {
     "name": "stdout",
     "output_type": "stream",
     "text": [
      "['good' 'like new' 'fair' 'excellent' 'salvage' 'new']\n"
     ]
    }
   ],
   "source": [
    "print(df['condition'].unique())\n",
    "#Observando como as condições são descritas."
   ]
  },
  {
   "cell_type": "code",
   "execution_count": 8,
   "metadata": {},
   "outputs": [],
   "source": [
    "#Criando a função para passar as linhas do dataframe e alterar o dado da coluna condition.\n",
    "def condition(row):\n",
    "    if 'good' in row['condition']:\n",
    "        return 2\n",
    "    if 'like new' in row['condition']:\n",
    "        return 4\n",
    "    if 'fair' in row['condition']:\n",
    "        return 1\n",
    "    if 'excellent' in row['condition']:\n",
    "        return 3\n",
    "    if 'new' in row['condition']:\n",
    "        return 5\n",
    "    if 'salvage' in row['condition']:\n",
    "        return 0\n"
   ]
  },
  {
   "cell_type": "code",
   "execution_count": 9,
   "metadata": {},
   "outputs": [],
   "source": [
    "#Aplicando a função.\n",
    "df['condition']=df.apply(condition, axis=1)"
   ]
  },
  {
   "cell_type": "code",
   "execution_count": 10,
   "metadata": {},
   "outputs": [
    {
     "name": "stdout",
     "output_type": "stream",
     "text": [
      "0        2\n",
      "1        2\n",
      "2        4\n",
      "3        1\n",
      "4        3\n",
      "        ..\n",
      "51520    4\n",
      "51521    0\n",
      "51522    3\n",
      "51523    2\n",
      "51524    2\n",
      "Name: condition, Length: 51525, dtype: int64\n"
     ]
    }
   ],
   "source": [
    "#Checando resultados.\n",
    "print(df['condition'])"
   ]
  },
  {
   "cell_type": "code",
   "execution_count": 11,
   "metadata": {},
   "outputs": [
    {
     "name": "stdout",
     "output_type": "stream",
     "text": [
      "<class 'pandas.core.series.Series'>\n",
      "RangeIndex: 51525 entries, 0 to 51524\n",
      "Series name: condition\n",
      "Non-Null Count  Dtype\n",
      "--------------  -----\n",
      "51525 non-null  int64\n",
      "dtypes: int64(1)\n",
      "memory usage: 402.7 KB\n"
     ]
    }
   ],
   "source": [
    "#Checando se o tipo do dado está correto agora.\n",
    "df['condition'].info()"
   ]
  },
  {
   "cell_type": "markdown",
   "metadata": {},
   "source": [
    "## Cuidando dos valores ausentes do ano do modelo."
   ]
  },
  {
   "cell_type": "markdown",
   "metadata": {},
   "source": [
    "Checando a correlação dos dados para preencher os valores ausentes."
   ]
  },
  {
   "cell_type": "code",
   "execution_count": 12,
   "metadata": {},
   "outputs": [
    {
     "data": {
      "text/html": [
       "<div>\n",
       "<style scoped>\n",
       "    .dataframe tbody tr th:only-of-type {\n",
       "        vertical-align: middle;\n",
       "    }\n",
       "\n",
       "    .dataframe tbody tr th {\n",
       "        vertical-align: top;\n",
       "    }\n",
       "\n",
       "    .dataframe thead th {\n",
       "        text-align: right;\n",
       "    }\n",
       "</style>\n",
       "<table border=\"1\" class=\"dataframe\">\n",
       "  <thead>\n",
       "    <tr style=\"text-align: right;\">\n",
       "      <th></th>\n",
       "      <th>price</th>\n",
       "      <th>model_year</th>\n",
       "      <th>condition</th>\n",
       "      <th>cylinders</th>\n",
       "      <th>odometer</th>\n",
       "      <th>is_4wd</th>\n",
       "      <th>days_listed</th>\n",
       "    </tr>\n",
       "  </thead>\n",
       "  <tbody>\n",
       "    <tr>\n",
       "      <th>price</th>\n",
       "      <td>1.000000</td>\n",
       "      <td>0.428656</td>\n",
       "      <td>0.221518</td>\n",
       "      <td>0.296627</td>\n",
       "      <td>-0.420299</td>\n",
       "      <td>NaN</td>\n",
       "      <td>-0.000682</td>\n",
       "    </tr>\n",
       "    <tr>\n",
       "      <th>model_year</th>\n",
       "      <td>0.428656</td>\n",
       "      <td>1.000000</td>\n",
       "      <td>0.282421</td>\n",
       "      <td>-0.148040</td>\n",
       "      <td>-0.473948</td>\n",
       "      <td>NaN</td>\n",
       "      <td>-0.005703</td>\n",
       "    </tr>\n",
       "    <tr>\n",
       "      <th>condition</th>\n",
       "      <td>0.221518</td>\n",
       "      <td>0.282421</td>\n",
       "      <td>1.000000</td>\n",
       "      <td>-0.063553</td>\n",
       "      <td>-0.296445</td>\n",
       "      <td>NaN</td>\n",
       "      <td>-0.002404</td>\n",
       "    </tr>\n",
       "    <tr>\n",
       "      <th>cylinders</th>\n",
       "      <td>0.296627</td>\n",
       "      <td>-0.148040</td>\n",
       "      <td>-0.063553</td>\n",
       "      <td>1.000000</td>\n",
       "      <td>0.090160</td>\n",
       "      <td>NaN</td>\n",
       "      <td>0.005517</td>\n",
       "    </tr>\n",
       "    <tr>\n",
       "      <th>odometer</th>\n",
       "      <td>-0.420299</td>\n",
       "      <td>-0.473948</td>\n",
       "      <td>-0.296445</td>\n",
       "      <td>0.090160</td>\n",
       "      <td>1.000000</td>\n",
       "      <td>NaN</td>\n",
       "      <td>0.003804</td>\n",
       "    </tr>\n",
       "    <tr>\n",
       "      <th>is_4wd</th>\n",
       "      <td>NaN</td>\n",
       "      <td>NaN</td>\n",
       "      <td>NaN</td>\n",
       "      <td>NaN</td>\n",
       "      <td>NaN</td>\n",
       "      <td>NaN</td>\n",
       "      <td>NaN</td>\n",
       "    </tr>\n",
       "    <tr>\n",
       "      <th>days_listed</th>\n",
       "      <td>-0.000682</td>\n",
       "      <td>-0.005703</td>\n",
       "      <td>-0.002404</td>\n",
       "      <td>0.005517</td>\n",
       "      <td>0.003804</td>\n",
       "      <td>NaN</td>\n",
       "      <td>1.000000</td>\n",
       "    </tr>\n",
       "  </tbody>\n",
       "</table>\n",
       "</div>"
      ],
      "text/plain": [
       "                price  model_year  condition  cylinders  odometer  is_4wd  \\\n",
       "price        1.000000    0.428656   0.221518   0.296627 -0.420299     NaN   \n",
       "model_year   0.428656    1.000000   0.282421  -0.148040 -0.473948     NaN   \n",
       "condition    0.221518    0.282421   1.000000  -0.063553 -0.296445     NaN   \n",
       "cylinders    0.296627   -0.148040  -0.063553   1.000000  0.090160     NaN   \n",
       "odometer    -0.420299   -0.473948  -0.296445   0.090160  1.000000     NaN   \n",
       "is_4wd            NaN         NaN        NaN        NaN       NaN     NaN   \n",
       "days_listed -0.000682   -0.005703  -0.002404   0.005517  0.003804     NaN   \n",
       "\n",
       "             days_listed  \n",
       "price          -0.000682  \n",
       "model_year     -0.005703  \n",
       "condition      -0.002404  \n",
       "cylinders       0.005517  \n",
       "odometer        0.003804  \n",
       "is_4wd               NaN  \n",
       "days_listed     1.000000  "
      ]
     },
     "execution_count": 12,
     "metadata": {},
     "output_type": "execute_result"
    }
   ],
   "source": [
    "df.corr()"
   ]
  },
  {
   "cell_type": "markdown",
   "metadata": {},
   "source": [
    "Há uma relação significativa entre o ano do modelo e condição do carro, logo usaremos a condição do carro para estimar o ano do modelo."
   ]
  },
  {
   "cell_type": "code",
   "execution_count": 13,
   "metadata": {},
   "outputs": [],
   "source": [
    "#Criando função recebendo as linhas do dataframe, calculando/retornando a mediana do ano do modelo pela condição do carro.\n",
    "def model_year(row):\n",
    "    if pd.isna(row['model_year']):\n",
    "        if row['condition']==0:\n",
    "            return df['model_year'].loc[df['condition']==0].median()\n",
    "        if row['condition']==1:\n",
    "             return df['model_year'].loc[df['condition']==1].median()\n",
    "        if row['condition']==2:\n",
    "             return df['model_year'].loc[df['condition']==2].median()\n",
    "        if row['condition']==3:\n",
    "             return df['model_year'].loc[df['condition']==3].median()\n",
    "        if row['condition']==4:\n",
    "             return df['model_year'].loc[df['condition']==4].median()\n",
    "        if row['condition']==5:\n",
    "             return df['model_year'].loc[df['condition']==5].median()\n",
    "    return row['model_year']"
   ]
  },
  {
   "cell_type": "code",
   "execution_count": 14,
   "metadata": {},
   "outputs": [],
   "source": [
    "#Aplicando a função.\n",
    "df['model_year']=df.apply(model_year, axis=1)"
   ]
  },
  {
   "cell_type": "code",
   "execution_count": 15,
   "metadata": {},
   "outputs": [
    {
     "data": {
      "text/plain": [
       "51525"
      ]
     },
     "execution_count": 15,
     "metadata": {},
     "output_type": "execute_result"
    }
   ],
   "source": [
    "#Checando resultados.\n",
    "df.model_year.count()"
   ]
  },
  {
   "cell_type": "markdown",
   "metadata": {},
   "source": [
    "## Cuidando dos valores ausentes do odômetro.\n",
    "\n",
    "Dividindo a porcetagem do ano dos modelos para utilizar a mediana de uma faixa de anos para preencher os valores vazios do odômetro, já que com a função corr pode-se concluir que os dados tem uma correlação forte."
   ]
  },
  {
   "cell_type": "code",
   "execution_count": 16,
   "metadata": {},
   "outputs": [
    {
     "data": {
      "text/plain": [
       "-0.4622959689601153"
      ]
     },
     "execution_count": 16,
     "metadata": {},
     "output_type": "execute_result"
    }
   ],
   "source": [
    "#Utilizando corr para conferir se os parâmetros são válidos.\n",
    "df['odometer'].corr(df['model_year'])"
   ]
  },
  {
   "cell_type": "code",
   "execution_count": 17,
   "metadata": {},
   "outputs": [
    {
     "data": {
      "text/plain": [
       "count    51525.000000\n",
       "mean      2009.816419\n",
       "std          6.091605\n",
       "min       1908.000000\n",
       "16%       2004.000000\n",
       "32%       2008.000000\n",
       "50%       2011.000000\n",
       "68%       2013.000000\n",
       "84%       2015.000000\n",
       "max       2019.000000\n",
       "Name: model_year, dtype: float64"
      ]
     },
     "execution_count": 17,
     "metadata": {},
     "output_type": "execute_result"
    }
   ],
   "source": [
    "#Dividindo em grupos.\n",
    "df['model_year'].describe(percentiles=[.16, .32, .50, .68, .84])"
   ]
  },
  {
   "cell_type": "code",
   "execution_count": 18,
   "metadata": {},
   "outputs": [],
   "source": [
    "#Criando função para preencher.\n",
    "def odometer(row):\n",
    "    if pd.isna(row['odometer']):\n",
    "        if row['model_year']<=2004:\n",
    "            return df['odometer'].loc[df['model_year']<2004].median()\n",
    "        elif row['model_year']<2008:\n",
    "            return df['odometer'].loc[df['model_year']<2008].median()\n",
    "        elif row['model_year']<2011:\n",
    "            return df['odometer'].loc[df['model_year']<2011].median()\n",
    "        elif row['model_year']<2013:\n",
    "            return df['odometer'].loc[df['model_year']<2013].median()\n",
    "        elif row['model_year']<2015:\n",
    "            return df['odometer'].loc[df['model_year']<2015].median()\n",
    "        elif row['model_year']<=2019:\n",
    "            return df['odometer'].loc[df['model_year']<2019].median()\n",
    "    return row['odometer']"
   ]
  },
  {
   "cell_type": "code",
   "execution_count": 19,
   "metadata": {},
   "outputs": [],
   "source": [
    "#Aplicando função.\n",
    "df['odometer']=df.apply(odometer, axis=1)"
   ]
  },
  {
   "cell_type": "code",
   "execution_count": 20,
   "metadata": {},
   "outputs": [
    {
     "name": "stdout",
     "output_type": "stream",
     "text": [
      "<class 'pandas.core.frame.DataFrame'>\n",
      "RangeIndex: 51525 entries, 0 to 51524\n",
      "Data columns (total 13 columns):\n",
      " #   Column        Non-Null Count  Dtype  \n",
      "---  ------        --------------  -----  \n",
      " 0   price         51525 non-null  int64  \n",
      " 1   model_year    51525 non-null  float64\n",
      " 2   model         51525 non-null  object \n",
      " 3   condition     51525 non-null  int64  \n",
      " 4   cylinders     46265 non-null  float64\n",
      " 5   fuel          51525 non-null  object \n",
      " 6   odometer      51525 non-null  float64\n",
      " 7   transmission  51525 non-null  object \n",
      " 8   type          51525 non-null  object \n",
      " 9   paint_color   42258 non-null  object \n",
      " 10  is_4wd        25572 non-null  float64\n",
      " 11  date_posted   51525 non-null  object \n",
      " 12  days_listed   51525 non-null  int64  \n",
      "dtypes: float64(4), int64(3), object(6)\n",
      "memory usage: 5.1+ MB\n"
     ]
    }
   ],
   "source": [
    "#Checando se foram preenchidos.\n",
    "df.info()"
   ]
  },
  {
   "cell_type": "markdown",
   "metadata": {},
   "source": [
    "## Cuidando dos valores ausentes dos cilindros.\n",
    "\n",
    "Preenchendo com o número de cilindros do modelo do carro."
   ]
  },
  {
   "cell_type": "code",
   "execution_count": 21,
   "metadata": {},
   "outputs": [],
   "source": [
    "#Criando função.\n",
    "def cylinders(row):\n",
    "    if pd.isna(row['cylinders']):\n",
    "        try:\n",
    "            return statistics.mode(df['cylinders'].loc[(df['model']==row['model']) & df['model_year']==row['model_year']])\n",
    "        except:\n",
    "            return statistics.mode(df['cylinders'].loc[(df['model']==row['model'])])\n",
    "    return row['cylinders']"
   ]
  },
  {
   "cell_type": "code",
   "execution_count": 22,
   "metadata": {},
   "outputs": [],
   "source": [
    "#Aplicando função.\n",
    "df['cylinders']=df.apply(cylinders, axis=1)"
   ]
  },
  {
   "cell_type": "code",
   "execution_count": 23,
   "metadata": {},
   "outputs": [
    {
     "name": "stdout",
     "output_type": "stream",
     "text": [
      "<class 'pandas.core.frame.DataFrame'>\n",
      "RangeIndex: 51525 entries, 0 to 51524\n",
      "Data columns (total 13 columns):\n",
      " #   Column        Non-Null Count  Dtype  \n",
      "---  ------        --------------  -----  \n",
      " 0   price         51525 non-null  int64  \n",
      " 1   model_year    51525 non-null  float64\n",
      " 2   model         51525 non-null  object \n",
      " 3   condition     51525 non-null  int64  \n",
      " 4   cylinders     51525 non-null  float64\n",
      " 5   fuel          51525 non-null  object \n",
      " 6   odometer      51525 non-null  float64\n",
      " 7   transmission  51525 non-null  object \n",
      " 8   type          51525 non-null  object \n",
      " 9   paint_color   42258 non-null  object \n",
      " 10  is_4wd        25572 non-null  float64\n",
      " 11  date_posted   51525 non-null  object \n",
      " 12  days_listed   51525 non-null  int64  \n",
      "dtypes: float64(4), int64(3), object(6)\n",
      "memory usage: 5.1+ MB\n"
     ]
    }
   ],
   "source": [
    "#Checando resultados.\n",
    "df.info()"
   ]
  },
  {
   "cell_type": "markdown",
   "metadata": {},
   "source": [
    "## Cuidando dos valores ausentes da cor da pintura dos carros.\n",
    "\n",
    "Preenchendo com valor \"unknow\"."
   ]
  },
  {
   "cell_type": "code",
   "execution_count": 24,
   "metadata": {},
   "outputs": [],
   "source": [
    "#Usando fillna para preencher valores ausentes.\n",
    "df['paint_color']=df['paint_color'].fillna('unknown')"
   ]
  },
  {
   "cell_type": "code",
   "execution_count": 25,
   "metadata": {},
   "outputs": [
    {
     "name": "stdout",
     "output_type": "stream",
     "text": [
      "<class 'pandas.core.frame.DataFrame'>\n",
      "RangeIndex: 51525 entries, 0 to 51524\n",
      "Data columns (total 13 columns):\n",
      " #   Column        Non-Null Count  Dtype  \n",
      "---  ------        --------------  -----  \n",
      " 0   price         51525 non-null  int64  \n",
      " 1   model_year    51525 non-null  float64\n",
      " 2   model         51525 non-null  object \n",
      " 3   condition     51525 non-null  int64  \n",
      " 4   cylinders     51525 non-null  float64\n",
      " 5   fuel          51525 non-null  object \n",
      " 6   odometer      51525 non-null  float64\n",
      " 7   transmission  51525 non-null  object \n",
      " 8   type          51525 non-null  object \n",
      " 9   paint_color   51525 non-null  object \n",
      " 10  is_4wd        25572 non-null  float64\n",
      " 11  date_posted   51525 non-null  object \n",
      " 12  days_listed   51525 non-null  int64  \n",
      "dtypes: float64(4), int64(3), object(6)\n",
      "memory usage: 5.1+ MB\n"
     ]
    }
   ],
   "source": [
    "#Checando resultados.\n",
    "df.info()"
   ]
  },
  {
   "cell_type": "markdown",
   "metadata": {},
   "source": [
    "## Cuidando dos valores ausentes da coluna 'is_4wd'.\n",
    "\n",
    "Transformando em valores booleanos e definindo os ausentes como falsos."
   ]
  },
  {
   "cell_type": "code",
   "execution_count": 26,
   "metadata": {},
   "outputs": [],
   "source": [
    "#Definindo 1 como True (boolean).\n",
    "(df.loc[(df['is_4wd']==1), 'is_4wd'])=True"
   ]
  },
  {
   "cell_type": "code",
   "execution_count": 27,
   "metadata": {},
   "outputs": [],
   "source": [
    "#Definindo ausentes como False (boolean).\n",
    "df['is_4wd']=df['is_4wd'].fillna(False)"
   ]
  },
  {
   "cell_type": "code",
   "execution_count": 28,
   "metadata": {},
   "outputs": [
    {
     "name": "stdout",
     "output_type": "stream",
     "text": [
      "<class 'pandas.core.frame.DataFrame'>\n",
      "RangeIndex: 51525 entries, 0 to 51524\n",
      "Data columns (total 13 columns):\n",
      " #   Column        Non-Null Count  Dtype  \n",
      "---  ------        --------------  -----  \n",
      " 0   price         51525 non-null  int64  \n",
      " 1   model_year    51525 non-null  float64\n",
      " 2   model         51525 non-null  object \n",
      " 3   condition     51525 non-null  int64  \n",
      " 4   cylinders     51525 non-null  float64\n",
      " 5   fuel          51525 non-null  object \n",
      " 6   odometer      51525 non-null  float64\n",
      " 7   transmission  51525 non-null  object \n",
      " 8   type          51525 non-null  object \n",
      " 9   paint_color   51525 non-null  object \n",
      " 10  is_4wd        51525 non-null  bool   \n",
      " 11  date_posted   51525 non-null  object \n",
      " 12  days_listed   51525 non-null  int64  \n",
      "dtypes: bool(1), float64(3), int64(3), object(6)\n",
      "memory usage: 4.8+ MB\n"
     ]
    }
   ],
   "source": [
    "#Checando resultados.\n",
    "df.info()"
   ]
  },
  {
   "cell_type": "markdown",
   "metadata": {},
   "source": [
    "## Corrija outros tipos de dados"
   ]
  },
  {
   "cell_type": "markdown",
   "metadata": {},
   "source": [
    "Corrigindo tipos de outros dados os quais estavam em float para inteiros."
   ]
  },
  {
   "cell_type": "code",
   "execution_count": 29,
   "metadata": {},
   "outputs": [],
   "source": [
    "df['model_year']=df['model_year'].astype(int)"
   ]
  },
  {
   "cell_type": "code",
   "execution_count": 30,
   "metadata": {},
   "outputs": [],
   "source": [
    "df['cylinders']=df['cylinders'].astype(int)"
   ]
  },
  {
   "cell_type": "code",
   "execution_count": 31,
   "metadata": {},
   "outputs": [
    {
     "data": {
      "text/plain": [
       "0    2018-06-23\n",
       "1    2018-10-19\n",
       "2    2019-02-07\n",
       "3    2019-03-22\n",
       "4    2019-04-02\n",
       "Name: date_posted, dtype: object"
      ]
     },
     "execution_count": 31,
     "metadata": {},
     "output_type": "execute_result"
    }
   ],
   "source": [
    "df['date_posted'].head()"
   ]
  },
  {
   "cell_type": "code",
   "execution_count": 32,
   "metadata": {},
   "outputs": [
    {
     "data": {
      "text/plain": [
       "0    19\n",
       "1    50\n",
       "2    79\n",
       "3     9\n",
       "4    28\n",
       "Name: days_listed, dtype: int64"
      ]
     },
     "execution_count": 32,
     "metadata": {},
     "output_type": "execute_result"
    }
   ],
   "source": [
    "df['days_listed'].head()"
   ]
  },
  {
   "cell_type": "code",
   "execution_count": 33,
   "metadata": {},
   "outputs": [],
   "source": [
    "#Transformando valor da coluna no tipo data.\n",
    "df['date_posted'] = pd.to_datetime(df['date_posted'], format='%Y-%m-%d')\n"
   ]
  },
  {
   "cell_type": "code",
   "execution_count": 34,
   "metadata": {},
   "outputs": [
    {
     "name": "stdout",
     "output_type": "stream",
     "text": [
      "<class 'pandas.core.frame.DataFrame'>\n",
      "RangeIndex: 51525 entries, 0 to 51524\n",
      "Data columns (total 13 columns):\n",
      " #   Column        Non-Null Count  Dtype         \n",
      "---  ------        --------------  -----         \n",
      " 0   price         51525 non-null  int64         \n",
      " 1   model_year    51525 non-null  int32         \n",
      " 2   model         51525 non-null  object        \n",
      " 3   condition     51525 non-null  int64         \n",
      " 4   cylinders     51525 non-null  int32         \n",
      " 5   fuel          51525 non-null  object        \n",
      " 6   odometer      51525 non-null  float64       \n",
      " 7   transmission  51525 non-null  object        \n",
      " 8   type          51525 non-null  object        \n",
      " 9   paint_color   51525 non-null  object        \n",
      " 10  is_4wd        51525 non-null  bool          \n",
      " 11  date_posted   51525 non-null  datetime64[ns]\n",
      " 12  days_listed   51525 non-null  int64         \n",
      "dtypes: bool(1), datetime64[ns](1), float64(1), int32(2), int64(3), object(5)\n",
      "memory usage: 4.4+ MB\n"
     ]
    }
   ],
   "source": [
    "df.info()"
   ]
  },
  {
   "cell_type": "markdown",
   "metadata": {},
   "source": [
    "## Enriqueça os dados"
   ]
  },
  {
   "cell_type": "markdown",
   "metadata": {},
   "source": [
    "[Adicione fatores adicionais aos dados para tornar a análise mas fácil.]"
   ]
  },
  {
   "cell_type": "code",
   "execution_count": 35,
   "metadata": {},
   "outputs": [],
   "source": [
    "# Adicionando valores data/hora para quando a propaganda estiver colocada.\n",
    "df['day_posted']=df['date_posted'].dt.weekday\n"
   ]
  },
  {
   "cell_type": "code",
   "execution_count": 36,
   "metadata": {},
   "outputs": [],
   "source": [
    "# Adicionando a idade do veículo quando a propaganda for colocada.\n",
    "df['age_posted']=df['date_posted'].dt.year-df['model_year']\n",
    "\n"
   ]
  },
  {
   "cell_type": "code",
   "execution_count": 37,
   "metadata": {},
   "outputs": [],
   "source": [
    "# Adicione a quilometragem média por ano. \n",
    "df['km_by_year']=df['odometer']/df['age_posted']"
   ]
  },
  {
   "cell_type": "code",
   "execution_count": 38,
   "metadata": {},
   "outputs": [
    {
     "data": {
      "text/plain": [
       "inf             2133\n",
       "1.960800e+04     618\n",
       "2.580000e+04     601\n",
       "1.622222e+04     563\n",
       "2.287600e+04     517\n",
       "                ... \n",
       "5.226667e+03       1\n",
       "1.302250e+04       1\n",
       "1.019700e+04       1\n",
       "2.131270e+04       1\n",
       "2.791460e+04       1\n",
       "Name: km_by_year, Length: 22671, dtype: int64"
      ]
     },
     "execution_count": 38,
     "metadata": {},
     "output_type": "execute_result"
    }
   ],
   "source": [
    "#Analisando valores.\n",
    "df['km_by_year'].value_counts()"
   ]
  },
  {
   "cell_type": "code",
   "execution_count": 39,
   "metadata": {},
   "outputs": [],
   "source": [
    "#Função para corrigir os valores de quilometragem.\n",
    "def km_by_year(row):\n",
    "    if row['age_posted']==0:\n",
    "        return row['odometer']\n",
    "    return row['km_by_year']"
   ]
  },
  {
   "cell_type": "code",
   "execution_count": 40,
   "metadata": {},
   "outputs": [],
   "source": [
    "#Aplicando função.\n",
    "df['km_by_year']=df.apply(km_by_year, axis=1)"
   ]
  },
  {
   "cell_type": "markdown",
   "metadata": {},
   "source": [
    "## Verifique os dados limpos"
   ]
  },
  {
   "cell_type": "code",
   "execution_count": 41,
   "metadata": {},
   "outputs": [
    {
     "data": {
      "text/html": [
       "<div>\n",
       "<style scoped>\n",
       "    .dataframe tbody tr th:only-of-type {\n",
       "        vertical-align: middle;\n",
       "    }\n",
       "\n",
       "    .dataframe tbody tr th {\n",
       "        vertical-align: top;\n",
       "    }\n",
       "\n",
       "    .dataframe thead th {\n",
       "        text-align: right;\n",
       "    }\n",
       "</style>\n",
       "<table border=\"1\" class=\"dataframe\">\n",
       "  <thead>\n",
       "    <tr style=\"text-align: right;\">\n",
       "      <th></th>\n",
       "      <th>price</th>\n",
       "      <th>model_year</th>\n",
       "      <th>condition</th>\n",
       "      <th>cylinders</th>\n",
       "      <th>odometer</th>\n",
       "      <th>days_listed</th>\n",
       "      <th>day_posted</th>\n",
       "      <th>age_posted</th>\n",
       "      <th>km_by_year</th>\n",
       "    </tr>\n",
       "  </thead>\n",
       "  <tbody>\n",
       "    <tr>\n",
       "      <th>count</th>\n",
       "      <td>51525.000000</td>\n",
       "      <td>51525.000000</td>\n",
       "      <td>51525.000000</td>\n",
       "      <td>51525.000000</td>\n",
       "      <td>51525.000000</td>\n",
       "      <td>51525.00000</td>\n",
       "      <td>51525.000000</td>\n",
       "      <td>51525.000000</td>\n",
       "      <td>51525.000000</td>\n",
       "    </tr>\n",
       "    <tr>\n",
       "      <th>mean</th>\n",
       "      <td>12132.464920</td>\n",
       "      <td>2009.816419</td>\n",
       "      <td>2.637535</td>\n",
       "      <td>6.121494</td>\n",
       "      <td>119150.125590</td>\n",
       "      <td>39.55476</td>\n",
       "      <td>3.005434</td>\n",
       "      <td>8.491043</td>\n",
       "      <td>19558.931788</td>\n",
       "    </tr>\n",
       "    <tr>\n",
       "      <th>std</th>\n",
       "      <td>10040.803015</td>\n",
       "      <td>6.091605</td>\n",
       "      <td>0.712447</td>\n",
       "      <td>1.657296</td>\n",
       "      <td>60873.825201</td>\n",
       "      <td>28.20427</td>\n",
       "      <td>1.997759</td>\n",
       "      <td>6.105618</td>\n",
       "      <td>16886.099443</td>\n",
       "    </tr>\n",
       "    <tr>\n",
       "      <th>min</th>\n",
       "      <td>1.000000</td>\n",
       "      <td>1908.000000</td>\n",
       "      <td>0.000000</td>\n",
       "      <td>3.000000</td>\n",
       "      <td>0.000000</td>\n",
       "      <td>0.00000</td>\n",
       "      <td>0.000000</td>\n",
       "      <td>0.000000</td>\n",
       "      <td>0.000000</td>\n",
       "    </tr>\n",
       "    <tr>\n",
       "      <th>25%</th>\n",
       "      <td>5000.000000</td>\n",
       "      <td>2007.000000</td>\n",
       "      <td>2.000000</td>\n",
       "      <td>4.000000</td>\n",
       "      <td>79181.000000</td>\n",
       "      <td>19.00000</td>\n",
       "      <td>1.000000</td>\n",
       "      <td>4.000000</td>\n",
       "      <td>10933.333333</td>\n",
       "    </tr>\n",
       "    <tr>\n",
       "      <th>50%</th>\n",
       "      <td>9000.000000</td>\n",
       "      <td>2011.000000</td>\n",
       "      <td>3.000000</td>\n",
       "      <td>6.000000</td>\n",
       "      <td>121107.000000</td>\n",
       "      <td>33.00000</td>\n",
       "      <td>3.000000</td>\n",
       "      <td>7.000000</td>\n",
       "      <td>15500.000000</td>\n",
       "    </tr>\n",
       "    <tr>\n",
       "      <th>75%</th>\n",
       "      <td>16839.000000</td>\n",
       "      <td>2014.000000</td>\n",
       "      <td>3.000000</td>\n",
       "      <td>8.000000</td>\n",
       "      <td>155015.000000</td>\n",
       "      <td>53.00000</td>\n",
       "      <td>5.000000</td>\n",
       "      <td>12.000000</td>\n",
       "      <td>22727.272727</td>\n",
       "    </tr>\n",
       "    <tr>\n",
       "      <th>max</th>\n",
       "      <td>375000.000000</td>\n",
       "      <td>2019.000000</td>\n",
       "      <td>5.000000</td>\n",
       "      <td>12.000000</td>\n",
       "      <td>990000.000000</td>\n",
       "      <td>271.00000</td>\n",
       "      <td>6.000000</td>\n",
       "      <td>110.000000</td>\n",
       "      <td>373200.000000</td>\n",
       "    </tr>\n",
       "  </tbody>\n",
       "</table>\n",
       "</div>"
      ],
      "text/plain": [
       "               price    model_year     condition     cylinders       odometer  \\\n",
       "count   51525.000000  51525.000000  51525.000000  51525.000000   51525.000000   \n",
       "mean    12132.464920   2009.816419      2.637535      6.121494  119150.125590   \n",
       "std     10040.803015      6.091605      0.712447      1.657296   60873.825201   \n",
       "min         1.000000   1908.000000      0.000000      3.000000       0.000000   \n",
       "25%      5000.000000   2007.000000      2.000000      4.000000   79181.000000   \n",
       "50%      9000.000000   2011.000000      3.000000      6.000000  121107.000000   \n",
       "75%     16839.000000   2014.000000      3.000000      8.000000  155015.000000   \n",
       "max    375000.000000   2019.000000      5.000000     12.000000  990000.000000   \n",
       "\n",
       "       days_listed    day_posted    age_posted     km_by_year  \n",
       "count  51525.00000  51525.000000  51525.000000   51525.000000  \n",
       "mean      39.55476      3.005434      8.491043   19558.931788  \n",
       "std       28.20427      1.997759      6.105618   16886.099443  \n",
       "min        0.00000      0.000000      0.000000       0.000000  \n",
       "25%       19.00000      1.000000      4.000000   10933.333333  \n",
       "50%       33.00000      3.000000      7.000000   15500.000000  \n",
       "75%       53.00000      5.000000     12.000000   22727.272727  \n",
       "max      271.00000      6.000000    110.000000  373200.000000  "
      ]
     },
     "execution_count": 41,
     "metadata": {},
     "output_type": "execute_result"
    }
   ],
   "source": [
    "#Verificando os dados novamente.\n",
    "df.describe()"
   ]
  },
  {
   "cell_type": "code",
   "execution_count": 42,
   "metadata": {
    "scrolled": true
   },
   "outputs": [
    {
     "data": {
      "text/html": [
       "<div>\n",
       "<style scoped>\n",
       "    .dataframe tbody tr th:only-of-type {\n",
       "        vertical-align: middle;\n",
       "    }\n",
       "\n",
       "    .dataframe tbody tr th {\n",
       "        vertical-align: top;\n",
       "    }\n",
       "\n",
       "    .dataframe thead th {\n",
       "        text-align: right;\n",
       "    }\n",
       "</style>\n",
       "<table border=\"1\" class=\"dataframe\">\n",
       "  <thead>\n",
       "    <tr style=\"text-align: right;\">\n",
       "      <th></th>\n",
       "      <th>price</th>\n",
       "      <th>model_year</th>\n",
       "      <th>model</th>\n",
       "      <th>condition</th>\n",
       "      <th>cylinders</th>\n",
       "      <th>fuel</th>\n",
       "      <th>odometer</th>\n",
       "      <th>transmission</th>\n",
       "      <th>type</th>\n",
       "      <th>paint_color</th>\n",
       "      <th>is_4wd</th>\n",
       "      <th>date_posted</th>\n",
       "      <th>days_listed</th>\n",
       "      <th>day_posted</th>\n",
       "      <th>age_posted</th>\n",
       "      <th>km_by_year</th>\n",
       "    </tr>\n",
       "  </thead>\n",
       "  <tbody>\n",
       "    <tr>\n",
       "      <th>405</th>\n",
       "      <td>1</td>\n",
       "      <td>2014</td>\n",
       "      <td>chevrolet camaro</td>\n",
       "      <td>3</td>\n",
       "      <td>6</td>\n",
       "      <td>gas</td>\n",
       "      <td>71310.0</td>\n",
       "      <td>automatic</td>\n",
       "      <td>coupe</td>\n",
       "      <td>unknown</td>\n",
       "      <td>False</td>\n",
       "      <td>2018-07-14</td>\n",
       "      <td>29</td>\n",
       "      <td>5</td>\n",
       "      <td>4</td>\n",
       "      <td>17827.500000</td>\n",
       "    </tr>\n",
       "    <tr>\n",
       "      <th>3063</th>\n",
       "      <td>1</td>\n",
       "      <td>1998</td>\n",
       "      <td>chevrolet silverado</td>\n",
       "      <td>2</td>\n",
       "      <td>8</td>\n",
       "      <td>gas</td>\n",
       "      <td>164000.0</td>\n",
       "      <td>automatic</td>\n",
       "      <td>pickup</td>\n",
       "      <td>unknown</td>\n",
       "      <td>True</td>\n",
       "      <td>2018-10-11</td>\n",
       "      <td>49</td>\n",
       "      <td>3</td>\n",
       "      <td>20</td>\n",
       "      <td>8200.000000</td>\n",
       "    </tr>\n",
       "    <tr>\n",
       "      <th>3808</th>\n",
       "      <td>1</td>\n",
       "      <td>2007</td>\n",
       "      <td>chevrolet tahoe</td>\n",
       "      <td>2</td>\n",
       "      <td>8</td>\n",
       "      <td>gas</td>\n",
       "      <td>200.0</td>\n",
       "      <td>automatic</td>\n",
       "      <td>SUV</td>\n",
       "      <td>red</td>\n",
       "      <td>False</td>\n",
       "      <td>2019-03-18</td>\n",
       "      <td>63</td>\n",
       "      <td>0</td>\n",
       "      <td>12</td>\n",
       "      <td>16.666667</td>\n",
       "    </tr>\n",
       "    <tr>\n",
       "      <th>3902</th>\n",
       "      <td>1</td>\n",
       "      <td>1996</td>\n",
       "      <td>ford f-150</td>\n",
       "      <td>1</td>\n",
       "      <td>8</td>\n",
       "      <td>gas</td>\n",
       "      <td>163000.0</td>\n",
       "      <td>manual</td>\n",
       "      <td>truck</td>\n",
       "      <td>white</td>\n",
       "      <td>False</td>\n",
       "      <td>2019-02-23</td>\n",
       "      <td>54</td>\n",
       "      <td>5</td>\n",
       "      <td>23</td>\n",
       "      <td>7086.956522</td>\n",
       "    </tr>\n",
       "    <tr>\n",
       "      <th>4140</th>\n",
       "      <td>1</td>\n",
       "      <td>2004</td>\n",
       "      <td>chevrolet silverado</td>\n",
       "      <td>3</td>\n",
       "      <td>8</td>\n",
       "      <td>diesel</td>\n",
       "      <td>83000.0</td>\n",
       "      <td>automatic</td>\n",
       "      <td>pickup</td>\n",
       "      <td>unknown</td>\n",
       "      <td>True</td>\n",
       "      <td>2019-02-04</td>\n",
       "      <td>14</td>\n",
       "      <td>0</td>\n",
       "      <td>15</td>\n",
       "      <td>5533.333333</td>\n",
       "    </tr>\n",
       "    <tr>\n",
       "      <th>...</th>\n",
       "      <td>...</td>\n",
       "      <td>...</td>\n",
       "      <td>...</td>\n",
       "      <td>...</td>\n",
       "      <td>...</td>\n",
       "      <td>...</td>\n",
       "      <td>...</td>\n",
       "      <td>...</td>\n",
       "      <td>...</td>\n",
       "      <td>...</td>\n",
       "      <td>...</td>\n",
       "      <td>...</td>\n",
       "      <td>...</td>\n",
       "      <td>...</td>\n",
       "      <td>...</td>\n",
       "      <td>...</td>\n",
       "    </tr>\n",
       "    <tr>\n",
       "      <th>49699</th>\n",
       "      <td>1</td>\n",
       "      <td>2007</td>\n",
       "      <td>chevrolet trailblazer</td>\n",
       "      <td>3</td>\n",
       "      <td>8</td>\n",
       "      <td>gas</td>\n",
       "      <td>155015.0</td>\n",
       "      <td>automatic</td>\n",
       "      <td>SUV</td>\n",
       "      <td>black</td>\n",
       "      <td>True</td>\n",
       "      <td>2018-08-06</td>\n",
       "      <td>28</td>\n",
       "      <td>0</td>\n",
       "      <td>11</td>\n",
       "      <td>14092.272727</td>\n",
       "    </tr>\n",
       "    <tr>\n",
       "      <th>49709</th>\n",
       "      <td>1</td>\n",
       "      <td>2012</td>\n",
       "      <td>ford f150</td>\n",
       "      <td>3</td>\n",
       "      <td>8</td>\n",
       "      <td>gas</td>\n",
       "      <td>139700.0</td>\n",
       "      <td>other</td>\n",
       "      <td>pickup</td>\n",
       "      <td>red</td>\n",
       "      <td>True</td>\n",
       "      <td>2019-03-11</td>\n",
       "      <td>18</td>\n",
       "      <td>0</td>\n",
       "      <td>7</td>\n",
       "      <td>19957.142857</td>\n",
       "    </tr>\n",
       "    <tr>\n",
       "      <th>50245</th>\n",
       "      <td>1</td>\n",
       "      <td>1986</td>\n",
       "      <td>chevrolet silverado</td>\n",
       "      <td>2</td>\n",
       "      <td>8</td>\n",
       "      <td>gas</td>\n",
       "      <td>164000.0</td>\n",
       "      <td>automatic</td>\n",
       "      <td>truck</td>\n",
       "      <td>red</td>\n",
       "      <td>True</td>\n",
       "      <td>2018-11-30</td>\n",
       "      <td>50</td>\n",
       "      <td>4</td>\n",
       "      <td>32</td>\n",
       "      <td>5125.000000</td>\n",
       "    </tr>\n",
       "    <tr>\n",
       "      <th>50393</th>\n",
       "      <td>1</td>\n",
       "      <td>2003</td>\n",
       "      <td>gmc sierra 2500hd</td>\n",
       "      <td>2</td>\n",
       "      <td>8</td>\n",
       "      <td>diesel</td>\n",
       "      <td>212300.0</td>\n",
       "      <td>automatic</td>\n",
       "      <td>pickup</td>\n",
       "      <td>black</td>\n",
       "      <td>True</td>\n",
       "      <td>2019-04-12</td>\n",
       "      <td>28</td>\n",
       "      <td>4</td>\n",
       "      <td>16</td>\n",
       "      <td>13268.750000</td>\n",
       "    </tr>\n",
       "    <tr>\n",
       "      <th>51256</th>\n",
       "      <td>1</td>\n",
       "      <td>2012</td>\n",
       "      <td>honda civic lx</td>\n",
       "      <td>3</td>\n",
       "      <td>4</td>\n",
       "      <td>gas</td>\n",
       "      <td>71262.0</td>\n",
       "      <td>automatic</td>\n",
       "      <td>sedan</td>\n",
       "      <td>blue</td>\n",
       "      <td>False</td>\n",
       "      <td>2018-05-06</td>\n",
       "      <td>53</td>\n",
       "      <td>6</td>\n",
       "      <td>6</td>\n",
       "      <td>11877.000000</td>\n",
       "    </tr>\n",
       "  </tbody>\n",
       "</table>\n",
       "<p>798 rows × 16 columns</p>\n",
       "</div>"
      ],
      "text/plain": [
       "       price  model_year                  model  condition  cylinders    fuel  \\\n",
       "405        1        2014       chevrolet camaro          3          6     gas   \n",
       "3063       1        1998    chevrolet silverado          2          8     gas   \n",
       "3808       1        2007        chevrolet tahoe          2          8     gas   \n",
       "3902       1        1996             ford f-150          1          8     gas   \n",
       "4140       1        2004    chevrolet silverado          3          8  diesel   \n",
       "...      ...         ...                    ...        ...        ...     ...   \n",
       "49699      1        2007  chevrolet trailblazer          3          8     gas   \n",
       "49709      1        2012              ford f150          3          8     gas   \n",
       "50245      1        1986    chevrolet silverado          2          8     gas   \n",
       "50393      1        2003      gmc sierra 2500hd          2          8  diesel   \n",
       "51256      1        2012         honda civic lx          3          4     gas   \n",
       "\n",
       "       odometer transmission    type paint_color  is_4wd date_posted  \\\n",
       "405     71310.0    automatic   coupe     unknown   False  2018-07-14   \n",
       "3063   164000.0    automatic  pickup     unknown    True  2018-10-11   \n",
       "3808      200.0    automatic     SUV         red   False  2019-03-18   \n",
       "3902   163000.0       manual   truck       white   False  2019-02-23   \n",
       "4140    83000.0    automatic  pickup     unknown    True  2019-02-04   \n",
       "...         ...          ...     ...         ...     ...         ...   \n",
       "49699  155015.0    automatic     SUV       black    True  2018-08-06   \n",
       "49709  139700.0        other  pickup         red    True  2019-03-11   \n",
       "50245  164000.0    automatic   truck         red    True  2018-11-30   \n",
       "50393  212300.0    automatic  pickup       black    True  2019-04-12   \n",
       "51256   71262.0    automatic   sedan        blue   False  2018-05-06   \n",
       "\n",
       "       days_listed  day_posted  age_posted    km_by_year  \n",
       "405             29           5           4  17827.500000  \n",
       "3063            49           3          20   8200.000000  \n",
       "3808            63           0          12     16.666667  \n",
       "3902            54           5          23   7086.956522  \n",
       "4140            14           0          15   5533.333333  \n",
       "...            ...         ...         ...           ...  \n",
       "49699           28           0          11  14092.272727  \n",
       "49709           18           0           7  19957.142857  \n",
       "50245           50           4          32   5125.000000  \n",
       "50393           28           4          16  13268.750000  \n",
       "51256           53           6           6  11877.000000  \n",
       "\n",
       "[798 rows x 16 columns]"
      ]
     },
     "execution_count": 42,
     "metadata": {},
     "output_type": "execute_result"
    }
   ],
   "source": [
    "#Checando outliers.\n",
    "df[df['price']==1]"
   ]
  },
  {
   "cell_type": "code",
   "execution_count": 43,
   "metadata": {
    "scrolled": true
   },
   "outputs": [
    {
     "data": {
      "text/html": [
       "<div>\n",
       "<style scoped>\n",
       "    .dataframe tbody tr th:only-of-type {\n",
       "        vertical-align: middle;\n",
       "    }\n",
       "\n",
       "    .dataframe tbody tr th {\n",
       "        vertical-align: top;\n",
       "    }\n",
       "\n",
       "    .dataframe thead th {\n",
       "        text-align: right;\n",
       "    }\n",
       "</style>\n",
       "<table border=\"1\" class=\"dataframe\">\n",
       "  <thead>\n",
       "    <tr style=\"text-align: right;\">\n",
       "      <th></th>\n",
       "      <th>price</th>\n",
       "      <th>model_year</th>\n",
       "      <th>condition</th>\n",
       "      <th>cylinders</th>\n",
       "      <th>odometer</th>\n",
       "      <th>is_4wd</th>\n",
       "      <th>days_listed</th>\n",
       "      <th>day_posted</th>\n",
       "      <th>age_posted</th>\n",
       "      <th>km_by_year</th>\n",
       "    </tr>\n",
       "  </thead>\n",
       "  <tbody>\n",
       "    <tr>\n",
       "      <th>price</th>\n",
       "      <td>1.000000</td>\n",
       "      <td>0.418347</td>\n",
       "      <td>0.221518</td>\n",
       "      <td>0.300448</td>\n",
       "      <td>-0.401288</td>\n",
       "      <td>0.315145</td>\n",
       "      <td>-0.000682</td>\n",
       "      <td>-0.000343</td>\n",
       "      <td>-0.417029</td>\n",
       "      <td>0.235156</td>\n",
       "    </tr>\n",
       "    <tr>\n",
       "      <th>model_year</th>\n",
       "      <td>0.418347</td>\n",
       "      <td>1.000000</td>\n",
       "      <td>0.295711</td>\n",
       "      <td>-0.142399</td>\n",
       "      <td>-0.455931</td>\n",
       "      <td>0.041079</td>\n",
       "      <td>-0.005239</td>\n",
       "      <td>-0.007401</td>\n",
       "      <td>-0.997140</td>\n",
       "      <td>0.462747</td>\n",
       "    </tr>\n",
       "    <tr>\n",
       "      <th>condition</th>\n",
       "      <td>0.221518</td>\n",
       "      <td>0.295711</td>\n",
       "      <td>1.000000</td>\n",
       "      <td>-0.065569</td>\n",
       "      <td>-0.282249</td>\n",
       "      <td>0.012856</td>\n",
       "      <td>-0.002404</td>\n",
       "      <td>0.001152</td>\n",
       "      <td>-0.294746</td>\n",
       "      <td>0.119141</td>\n",
       "    </tr>\n",
       "    <tr>\n",
       "      <th>cylinders</th>\n",
       "      <td>0.300448</td>\n",
       "      <td>-0.142399</td>\n",
       "      <td>-0.065569</td>\n",
       "      <td>1.000000</td>\n",
       "      <td>0.086652</td>\n",
       "      <td>0.407433</td>\n",
       "      <td>0.003176</td>\n",
       "      <td>-0.003558</td>\n",
       "      <td>0.142043</td>\n",
       "      <td>-0.039216</td>\n",
       "    </tr>\n",
       "    <tr>\n",
       "      <th>odometer</th>\n",
       "      <td>-0.401288</td>\n",
       "      <td>-0.455931</td>\n",
       "      <td>-0.282249</td>\n",
       "      <td>0.086652</td>\n",
       "      <td>1.000000</td>\n",
       "      <td>0.031468</td>\n",
       "      <td>0.002581</td>\n",
       "      <td>0.001857</td>\n",
       "      <td>0.454398</td>\n",
       "      <td>0.093608</td>\n",
       "    </tr>\n",
       "    <tr>\n",
       "      <th>is_4wd</th>\n",
       "      <td>0.315145</td>\n",
       "      <td>0.041079</td>\n",
       "      <td>0.012856</td>\n",
       "      <td>0.407433</td>\n",
       "      <td>0.031468</td>\n",
       "      <td>1.000000</td>\n",
       "      <td>0.002003</td>\n",
       "      <td>0.003207</td>\n",
       "      <td>-0.041172</td>\n",
       "      <td>0.045073</td>\n",
       "    </tr>\n",
       "    <tr>\n",
       "      <th>days_listed</th>\n",
       "      <td>-0.000682</td>\n",
       "      <td>-0.005239</td>\n",
       "      <td>-0.002404</td>\n",
       "      <td>0.003176</td>\n",
       "      <td>0.002581</td>\n",
       "      <td>0.002003</td>\n",
       "      <td>1.000000</td>\n",
       "      <td>0.002734</td>\n",
       "      <td>0.006079</td>\n",
       "      <td>-0.004340</td>\n",
       "    </tr>\n",
       "    <tr>\n",
       "      <th>day_posted</th>\n",
       "      <td>-0.000343</td>\n",
       "      <td>-0.007401</td>\n",
       "      <td>0.001152</td>\n",
       "      <td>-0.003558</td>\n",
       "      <td>0.001857</td>\n",
       "      <td>0.003207</td>\n",
       "      <td>0.002734</td>\n",
       "      <td>1.000000</td>\n",
       "      <td>0.006819</td>\n",
       "      <td>-0.000128</td>\n",
       "    </tr>\n",
       "    <tr>\n",
       "      <th>age_posted</th>\n",
       "      <td>-0.417029</td>\n",
       "      <td>-0.997140</td>\n",
       "      <td>-0.294746</td>\n",
       "      <td>0.142043</td>\n",
       "      <td>0.454398</td>\n",
       "      <td>-0.041172</td>\n",
       "      <td>0.006079</td>\n",
       "      <td>0.006819</td>\n",
       "      <td>1.000000</td>\n",
       "      <td>-0.469701</td>\n",
       "    </tr>\n",
       "    <tr>\n",
       "      <th>km_by_year</th>\n",
       "      <td>0.235156</td>\n",
       "      <td>0.462747</td>\n",
       "      <td>0.119141</td>\n",
       "      <td>-0.039216</td>\n",
       "      <td>0.093608</td>\n",
       "      <td>0.045073</td>\n",
       "      <td>-0.004340</td>\n",
       "      <td>-0.000128</td>\n",
       "      <td>-0.469701</td>\n",
       "      <td>1.000000</td>\n",
       "    </tr>\n",
       "  </tbody>\n",
       "</table>\n",
       "</div>"
      ],
      "text/plain": [
       "                price  model_year  condition  cylinders  odometer    is_4wd  \\\n",
       "price        1.000000    0.418347   0.221518   0.300448 -0.401288  0.315145   \n",
       "model_year   0.418347    1.000000   0.295711  -0.142399 -0.455931  0.041079   \n",
       "condition    0.221518    0.295711   1.000000  -0.065569 -0.282249  0.012856   \n",
       "cylinders    0.300448   -0.142399  -0.065569   1.000000  0.086652  0.407433   \n",
       "odometer    -0.401288   -0.455931  -0.282249   0.086652  1.000000  0.031468   \n",
       "is_4wd       0.315145    0.041079   0.012856   0.407433  0.031468  1.000000   \n",
       "days_listed -0.000682   -0.005239  -0.002404   0.003176  0.002581  0.002003   \n",
       "day_posted  -0.000343   -0.007401   0.001152  -0.003558  0.001857  0.003207   \n",
       "age_posted  -0.417029   -0.997140  -0.294746   0.142043  0.454398 -0.041172   \n",
       "km_by_year   0.235156    0.462747   0.119141  -0.039216  0.093608  0.045073   \n",
       "\n",
       "             days_listed  day_posted  age_posted  km_by_year  \n",
       "price          -0.000682   -0.000343   -0.417029    0.235156  \n",
       "model_year     -0.005239   -0.007401   -0.997140    0.462747  \n",
       "condition      -0.002404    0.001152   -0.294746    0.119141  \n",
       "cylinders       0.003176   -0.003558    0.142043   -0.039216  \n",
       "odometer        0.002581    0.001857    0.454398    0.093608  \n",
       "is_4wd          0.002003    0.003207   -0.041172    0.045073  \n",
       "days_listed     1.000000    0.002734    0.006079   -0.004340  \n",
       "day_posted      0.002734    1.000000    0.006819   -0.000128  \n",
       "age_posted      0.006079    0.006819    1.000000   -0.469701  \n",
       "km_by_year     -0.004340   -0.000128   -0.469701    1.000000  "
      ]
     },
     "execution_count": 43,
     "metadata": {},
     "output_type": "execute_result"
    }
   ],
   "source": [
    "#Conferindo relações entre os dados.\n",
    "df.corr()"
   ]
  },
  {
   "cell_type": "code",
   "execution_count": 44,
   "metadata": {
    "scrolled": true
   },
   "outputs": [
    {
     "data": {
      "text/plain": [
       "count    51525.000000\n",
       "mean      2009.816419\n",
       "std          6.091605\n",
       "min       1908.000000\n",
       "16%       2004.000000\n",
       "32%       2008.000000\n",
       "50%       2011.000000\n",
       "68%       2013.000000\n",
       "84%       2015.000000\n",
       "max       2019.000000\n",
       "Name: model_year, dtype: float64"
      ]
     },
     "execution_count": 44,
     "metadata": {},
     "output_type": "execute_result"
    }
   ],
   "source": [
    "#Dividindo porcentagens para agrupar os dados.\n",
    "df['model_year'].describe(percentiles=[.16, .32, .50, .68, .84])"
   ]
  },
  {
   "cell_type": "code",
   "execution_count": 45,
   "metadata": {
    "scrolled": true
   },
   "outputs": [
    {
     "data": {
      "text/html": [
       "<div>\n",
       "<style scoped>\n",
       "    .dataframe tbody tr th:only-of-type {\n",
       "        vertical-align: middle;\n",
       "    }\n",
       "\n",
       "    .dataframe tbody tr th {\n",
       "        vertical-align: top;\n",
       "    }\n",
       "\n",
       "    .dataframe thead th {\n",
       "        text-align: right;\n",
       "    }\n",
       "</style>\n",
       "<table border=\"1\" class=\"dataframe\">\n",
       "  <thead>\n",
       "    <tr style=\"text-align: right;\">\n",
       "      <th></th>\n",
       "      <th>price</th>\n",
       "      <th>model_year</th>\n",
       "      <th>model</th>\n",
       "      <th>condition</th>\n",
       "      <th>cylinders</th>\n",
       "      <th>fuel</th>\n",
       "      <th>odometer</th>\n",
       "      <th>transmission</th>\n",
       "      <th>type</th>\n",
       "      <th>paint_color</th>\n",
       "      <th>is_4wd</th>\n",
       "      <th>date_posted</th>\n",
       "      <th>days_listed</th>\n",
       "      <th>day_posted</th>\n",
       "      <th>age_posted</th>\n",
       "      <th>km_by_year</th>\n",
       "    </tr>\n",
       "  </thead>\n",
       "  <tbody>\n",
       "    <tr>\n",
       "      <th>17869</th>\n",
       "      <td>59900</td>\n",
       "      <td>1964</td>\n",
       "      <td>chevrolet corvette</td>\n",
       "      <td>4</td>\n",
       "      <td>8</td>\n",
       "      <td>gas</td>\n",
       "      <td>990000.0</td>\n",
       "      <td>automatic</td>\n",
       "      <td>convertible</td>\n",
       "      <td>red</td>\n",
       "      <td>False</td>\n",
       "      <td>2018-06-17</td>\n",
       "      <td>28</td>\n",
       "      <td>6</td>\n",
       "      <td>54</td>\n",
       "      <td>18333.333333</td>\n",
       "    </tr>\n",
       "    <tr>\n",
       "      <th>40729</th>\n",
       "      <td>4700</td>\n",
       "      <td>2013</td>\n",
       "      <td>chevrolet cruze</td>\n",
       "      <td>2</td>\n",
       "      <td>6</td>\n",
       "      <td>gas</td>\n",
       "      <td>990000.0</td>\n",
       "      <td>automatic</td>\n",
       "      <td>sedan</td>\n",
       "      <td>black</td>\n",
       "      <td>False</td>\n",
       "      <td>2018-05-02</td>\n",
       "      <td>4</td>\n",
       "      <td>2</td>\n",
       "      <td>5</td>\n",
       "      <td>198000.000000</td>\n",
       "    </tr>\n",
       "  </tbody>\n",
       "</table>\n",
       "</div>"
      ],
      "text/plain": [
       "       price  model_year               model  condition  cylinders fuel  \\\n",
       "17869  59900        1964  chevrolet corvette          4          8  gas   \n",
       "40729   4700        2013     chevrolet cruze          2          6  gas   \n",
       "\n",
       "       odometer transmission         type paint_color  is_4wd date_posted  \\\n",
       "17869  990000.0    automatic  convertible         red   False  2018-06-17   \n",
       "40729  990000.0    automatic        sedan       black   False  2018-05-02   \n",
       "\n",
       "       days_listed  day_posted  age_posted     km_by_year  \n",
       "17869           28           6          54   18333.333333  \n",
       "40729            4           2           5  198000.000000  "
      ]
     },
     "execution_count": 45,
     "metadata": {},
     "output_type": "execute_result"
    }
   ],
   "source": [
    "#Checando outros valores absurdos.\n",
    "(df[df['odometer']==990000])"
   ]
  },
  {
   "cell_type": "markdown",
   "metadata": {},
   "source": [
    "## Estude os parâmetros fundamentais\n",
    "\n",
    "Estudando os parâmetros fundamentais.\n",
    "\n",
    "Os parâmetros são\n",
    "- Preço\n",
    "- A idade do veículo quando a propaganda foi colocada\n",
    "- Quilometragem\n",
    "- Número de cilindros\n",
    "- Condição"
   ]
  },
  {
   "cell_type": "code",
   "execution_count": 46,
   "metadata": {},
   "outputs": [
    {
     "data": {
      "text/plain": [
       "array([[<AxesSubplot:title={'center':'price'}>]], dtype=object)"
      ]
     },
     "execution_count": 46,
     "metadata": {},
     "output_type": "execute_result"
    },
    {
     "data": {
      "image/png": "[encoded data removed]",
      "text/plain": [
       "<Figure size 640x480 with 1 Axes>"
      ]
     },
     "metadata": {},
     "output_type": "display_data"
    }
   ],
   "source": [
    "#Observando gráfico de preços dos carros, pode-se concluir que os valores mais frequentes estão entre 0 e 20000.\n",
    "df.hist('price', bins=100, range=(0, 70000)) \n"
   ]
  },
  {
   "cell_type": "code",
   "execution_count": 47,
   "metadata": {},
   "outputs": [
    {
     "data": {
      "text/plain": [
       "array([[<AxesSubplot:title={'center':'age_posted'}>]], dtype=object)"
      ]
     },
     "execution_count": 47,
     "metadata": {},
     "output_type": "execute_result"
    },
    {
     "data": {
      "image/png": "[encoded data removed]",
      "text/plain": [
       "<Figure size 640x480 with 1 Axes>"
      ]
     },
     "metadata": {},
     "output_type": "display_data"
    }
   ],
   "source": [
    "#Observando idade dos carros ofertados e vvizualizando que a moda da idade é 7.\n",
    "df.hist('age_posted', bins=41, range=(0, 40)) \n",
    "\n"
   ]
  },
  {
   "cell_type": "code",
   "execution_count": 48,
   "metadata": {},
   "outputs": [
    {
     "data": {
      "text/plain": [
       "array([[<AxesSubplot:title={'center':'odometer'}>]], dtype=object)"
      ]
     },
     "execution_count": 48,
     "metadata": {},
     "output_type": "execute_result"
    },
    {
     "data": {
      "image/png": "[encoded data removed]",
      "text/plain": [
       "<Figure size 640x480 with 1 Axes>"
      ]
     },
     "metadata": {},
     "output_type": "display_data"
    }
   ],
   "source": [
    "#Checando valor dos odômetros da tabela.\n",
    "df.hist('odometer', bins=200, range=(0, 400000)) \n"
   ]
  },
  {
   "cell_type": "code",
   "execution_count": 49,
   "metadata": {},
   "outputs": [
    {
     "data": {
      "text/plain": [
       "array([[<AxesSubplot:title={'center':'cylinders'}>]], dtype=object)"
      ]
     },
     "execution_count": 49,
     "metadata": {},
     "output_type": "execute_result"
    },
    {
     "data": {
      "image/png": "[encoded data removed]",
      "text/plain": [
       "<Figure size 640x480 with 1 Axes>"
      ]
     },
     "metadata": {},
     "output_type": "display_data"
    }
   ],
   "source": [
    "#Observando quantidades de carros com cada tipo de motor.\n",
    "df.hist('cylinders', bins=12, range=(0, 12)) \n",
    "\n"
   ]
  },
  {
   "cell_type": "code",
   "execution_count": 50,
   "metadata": {},
   "outputs": [
    {
     "data": {
      "text/plain": [
       "array([[<AxesSubplot:title={'center':'condition'}>]], dtype=object)"
      ]
     },
     "execution_count": 50,
     "metadata": {},
     "output_type": "execute_result"
    },
    {
     "data": {
      "image/png": "[encoded data removed]",
      "text/plain": [
       "<Figure size 640x480 with 1 Axes>"
      ]
     },
     "metadata": {},
     "output_type": "display_data"
    }
   ],
   "source": [
    "#Verificando a condição dos carros da tabela.\n",
    "df.hist('condition', bins=6, range=(0, 5)) \n",
    "\n"
   ]
  },
  {
   "cell_type": "code",
   "execution_count": 51,
   "metadata": {},
   "outputs": [
    {
     "data": {
      "text/plain": [
       "array([[<AxesSubplot:title={'center':'days_listed'}>]], dtype=object)"
      ]
     },
     "execution_count": 51,
     "metadata": {},
     "output_type": "execute_result"
    },
    {
     "data": {
      "image/png": "[encoded data removed]",
      "text/plain": [
       "<Figure size 640x480 with 1 Axes>"
      ]
     },
     "metadata": {},
     "output_type": "display_data"
    }
   ],
   "source": [
    "#Observando tempo de propaganda dos carros no site.\n",
    "df.hist('days_listed', bins=50, range=(0, 200)) \n",
    "\n",
    "\n"
   ]
  },
  {
   "cell_type": "markdown",
   "metadata": {},
   "source": [
    "## Estudando valores suspeitos.\n",
    "\n",
    "Carros vendidos por um valor menor que 300 terão o preço reavaliado de acordo com o tipo e o modelo."
   ]
  },
  {
   "cell_type": "code",
   "execution_count": 52,
   "metadata": {},
   "outputs": [],
   "source": [
    "#Salvando uma tabela dinâmica com a média dos valores de acordo com o tipo e modelo do carro.\n",
    "median_type_pt=df.pivot_table(index=['type', 'model_year'], values='price', aggfunc='median')"
   ]
  },
  {
   "cell_type": "code",
   "execution_count": 53,
   "metadata": {},
   "outputs": [],
   "source": [
    "#Definindo a função que vai substituir os valores com a média da tabela sem outliers.\n",
    "def price(row):\n",
    "    if row['price']<300:\n",
    "        return median_type_pt['price'][row['type']][row['model_year']]\n",
    "    return row['price']   "
   ]
  },
  {
   "cell_type": "code",
   "execution_count": 54,
   "metadata": {},
   "outputs": [],
   "source": [
    "#Salvando nova tabela para fazer últimos ajustes.\n",
    "df_final=df"
   ]
  },
  {
   "cell_type": "code",
   "execution_count": 55,
   "metadata": {},
   "outputs": [],
   "source": [
    "#Aplicando função.\n",
    "df_final['price']=df.apply(price, axis=1)"
   ]
  },
  {
   "cell_type": "markdown",
   "metadata": {},
   "source": [
    "# Checando mais valores absurdos.\n"
   ]
  },
  {
   "cell_type": "code",
   "execution_count": 56,
   "metadata": {},
   "outputs": [],
   "source": [
    "# Determinando o limite superior para valores atípicos e os apagando.\n",
    "df_final=df_final.drop((df_final[df_final['km_by_year']>120000].index))"
   ]
  },
  {
   "cell_type": "code",
   "execution_count": 57,
   "metadata": {},
   "outputs": [],
   "source": [
    "#Resentando index da tabela.\n",
    "df_final=df_final.reset_index()"
   ]
  },
  {
   "cell_type": "code",
   "execution_count": 58,
   "metadata": {},
   "outputs": [],
   "source": [
    "# Retirando valores absurdos da tabela odômetro.\n",
    "df_final=df_final.drop((df_final[df_final['odometer']>350000].index))"
   ]
  },
  {
   "cell_type": "code",
   "execution_count": 59,
   "metadata": {},
   "outputs": [],
   "source": [
    "# Novamente recuperando os index's.\n",
    "df_final=df_final.reset_index()"
   ]
  },
  {
   "cell_type": "code",
   "execution_count": 60,
   "metadata": {},
   "outputs": [],
   "source": [
    "#Retirando carros com mais de 35 anos.\n",
    "df_final=df_final.drop((df_final[df_final['age_posted']>35].index))"
   ]
  },
  {
   "cell_type": "markdown",
   "metadata": {},
   "source": [
    "## Estude os parâmetros fundamentais sem valores atípicos"
   ]
  },
  {
   "cell_type": "markdown",
   "metadata": {},
   "source": [
    "Comparando dados antigos e novos."
   ]
  },
  {
   "cell_type": "code",
   "execution_count": 61,
   "metadata": {},
   "outputs": [
    {
     "data": {
      "text/plain": [
       "array([[<AxesSubplot:title={'center':'price'}>]], dtype=object)"
      ]
     },
     "execution_count": 61,
     "metadata": {},
     "output_type": "execute_result"
    },
    {
     "data": {
      "image/png": "[encoded data removed]",
      "text/plain": [
       "<Figure size 640x480 with 1 Axes>"
      ]
     },
     "metadata": {},
     "output_type": "display_data"
    }
   ],
   "source": [
    "#Gerando histograma do preço.\n",
    "df_final.hist('price', bins=100,range=(0, 70000)) \n"
   ]
  },
  {
   "cell_type": "code",
   "execution_count": 62,
   "metadata": {},
   "outputs": [
    {
     "data": {
      "text/plain": [
       "array([[<AxesSubplot:title={'center':'age_posted'}>]], dtype=object)"
      ]
     },
     "execution_count": 62,
     "metadata": {},
     "output_type": "execute_result"
    },
    {
     "data": {
      "image/png": "[encoded data removed]",
      "text/plain": [
       "<Figure size 640x480 with 1 Axes>"
      ]
     },
     "metadata": {},
     "output_type": "display_data"
    }
   ],
   "source": [
    "#Gerando histograma da idade do carro.\n",
    "df_final.hist('age_posted', bins=36, range=(0, 35)) "
   ]
  },
  {
   "cell_type": "code",
   "execution_count": 63,
   "metadata": {},
   "outputs": [
    {
     "data": {
      "text/plain": [
       "array([[<AxesSubplot:title={'center':'odometer'}>]], dtype=object)"
      ]
     },
     "execution_count": 63,
     "metadata": {},
     "output_type": "execute_result"
    },
    {
     "data": {
      "image/png": "[encoded data removed]",
      "text/plain": [
       "<Figure size 640x480 with 1 Axes>"
      ]
     },
     "metadata": {},
     "output_type": "display_data"
    }
   ],
   "source": [
    "#Gerando histograma do odômetro do carro.\n",
    "df_final.hist('odometer', bins=200, range=(1000, 35000)) "
   ]
  },
  {
   "cell_type": "code",
   "execution_count": 64,
   "metadata": {},
   "outputs": [
    {
     "data": {
      "text/plain": [
       "array([[<AxesSubplot:title={'center':'days_listed'}>]], dtype=object)"
      ]
     },
     "execution_count": 64,
     "metadata": {},
     "output_type": "execute_result"
    },
    {
     "data": {
      "image/png": "[encoded data removed]",
      "text/plain": [
       "<Figure size 640x480 with 1 Axes>"
      ]
     },
     "metadata": {},
     "output_type": "display_data"
    }
   ],
   "source": [
    "#Gerando histograma da quantidade de dias de propaganda.\n",
    "df_final.hist('days_listed', bins=50, range=(0, 200)) "
   ]
  },
  {
   "cell_type": "markdown",
   "metadata": {},
   "source": [
    "## Tempo de vida das propagandas\n",
    "\n",
    "[Estude quantos dias propagandas foram exibidas (`days_listed`). Calcule a média e a mediana. Descreva o tempo de vida útil comum de uma propaganda. Determine quando as propagandas foram removidas rapidamente, e quando elas foram listadas por um tempo anormalmente longo.]\n",
    "As propagandas duram em média de 40 dias, os menores retiram a propaganda após 19 dias, e os maiores ultrapassam 53 e podem chegar a ser 271 dias."
   ]
  },
  {
   "cell_type": "code",
   "execution_count": 65,
   "metadata": {},
   "outputs": [
    {
     "data": {
      "text/plain": [
       "count    51169.000000\n",
       "mean        39.552346\n",
       "std         28.202775\n",
       "min          0.000000\n",
       "25%         19.000000\n",
       "50%         33.000000\n",
       "75%         53.000000\n",
       "max        271.000000\n",
       "Name: days_listed, dtype: float64"
      ]
     },
     "execution_count": 65,
     "metadata": {},
     "output_type": "execute_result"
    }
   ],
   "source": [
    "df_final['days_listed'].describe()"
   ]
  },
  {
   "cell_type": "code",
   "execution_count": 66,
   "metadata": {},
   "outputs": [
    {
     "data": {
      "text/plain": [
       "33.0"
      ]
     },
     "execution_count": 66,
     "metadata": {},
     "output_type": "execute_result"
    }
   ],
   "source": [
    "#Calculando valor médio do dataframe.\n",
    "df_final['days_listed'].median()"
   ]
  },
  {
   "cell_type": "code",
   "execution_count": 67,
   "metadata": {},
   "outputs": [
    {
     "data": {
      "text/plain": [
       "array([[<AxesSubplot:title={'center':'days_listed'}>]], dtype=object)"
      ]
     },
     "execution_count": 67,
     "metadata": {},
     "output_type": "execute_result"
    },
    {
     "data": {
      "image/png": "[encoded data removed]",
      "text/plain": [
       "<Figure size 640x480 with 1 Axes>"
      ]
     },
     "metadata": {},
     "output_type": "display_data"
    }
   ],
   "source": [
    "#Analisando o histograma das propagandas observa-se que elas geralmente duram até 50 dias.\n",
    "df_final.hist('days_listed',bins=40)"
   ]
  },
  {
   "cell_type": "code",
   "execution_count": 68,
   "metadata": {
    "scrolled": false
   },
   "outputs": [
    {
     "data": {
      "text/html": [
       "<div>\n",
       "<style scoped>\n",
       "    .dataframe tbody tr th:only-of-type {\n",
       "        vertical-align: middle;\n",
       "    }\n",
       "\n",
       "    .dataframe tbody tr th {\n",
       "        vertical-align: top;\n",
       "    }\n",
       "\n",
       "    .dataframe thead th {\n",
       "        text-align: right;\n",
       "    }\n",
       "</style>\n",
       "<table border=\"1\" class=\"dataframe\">\n",
       "  <thead>\n",
       "    <tr style=\"text-align: right;\">\n",
       "      <th></th>\n",
       "      <th>level_0</th>\n",
       "      <th>index</th>\n",
       "      <th>price</th>\n",
       "      <th>model_year</th>\n",
       "      <th>condition</th>\n",
       "      <th>cylinders</th>\n",
       "      <th>odometer</th>\n",
       "      <th>is_4wd</th>\n",
       "      <th>days_listed</th>\n",
       "      <th>day_posted</th>\n",
       "      <th>age_posted</th>\n",
       "      <th>km_by_year</th>\n",
       "    </tr>\n",
       "  </thead>\n",
       "  <tbody>\n",
       "    <tr>\n",
       "      <th>level_0</th>\n",
       "      <td>1.000000</td>\n",
       "      <td>1.000000</td>\n",
       "      <td>-0.023439</td>\n",
       "      <td>-0.028555</td>\n",
       "      <td>-0.005251</td>\n",
       "      <td>-0.002868</td>\n",
       "      <td>0.031750</td>\n",
       "      <td>-0.001955</td>\n",
       "      <td>0.007812</td>\n",
       "      <td>-0.003127</td>\n",
       "      <td>0.028533</td>\n",
       "      <td>-0.008281</td>\n",
       "    </tr>\n",
       "    <tr>\n",
       "      <th>index</th>\n",
       "      <td>1.000000</td>\n",
       "      <td>1.000000</td>\n",
       "      <td>-0.023440</td>\n",
       "      <td>-0.028553</td>\n",
       "      <td>-0.005250</td>\n",
       "      <td>-0.002868</td>\n",
       "      <td>0.031748</td>\n",
       "      <td>-0.001958</td>\n",
       "      <td>0.007812</td>\n",
       "      <td>-0.003127</td>\n",
       "      <td>0.028531</td>\n",
       "      <td>-0.008279</td>\n",
       "    </tr>\n",
       "    <tr>\n",
       "      <th>price</th>\n",
       "      <td>-0.023439</td>\n",
       "      <td>-0.023440</td>\n",
       "      <td>1.000000</td>\n",
       "      <td>0.530674</td>\n",
       "      <td>0.240847</td>\n",
       "      <td>0.332013</td>\n",
       "      <td>-0.458849</td>\n",
       "      <td>0.344006</td>\n",
       "      <td>-0.002872</td>\n",
       "      <td>0.001396</td>\n",
       "      <td>-0.528943</td>\n",
       "      <td>0.267694</td>\n",
       "    </tr>\n",
       "    <tr>\n",
       "      <th>model_year</th>\n",
       "      <td>-0.028555</td>\n",
       "      <td>-0.028553</td>\n",
       "      <td>0.530674</td>\n",
       "      <td>1.000000</td>\n",
       "      <td>0.321771</td>\n",
       "      <td>-0.127507</td>\n",
       "      <td>-0.542775</td>\n",
       "      <td>0.018453</td>\n",
       "      <td>-0.003544</td>\n",
       "      <td>-0.000623</td>\n",
       "      <td>-0.996486</td>\n",
       "      <td>0.493889</td>\n",
       "    </tr>\n",
       "    <tr>\n",
       "      <th>condition</th>\n",
       "      <td>-0.005251</td>\n",
       "      <td>-0.005250</td>\n",
       "      <td>0.240847</td>\n",
       "      <td>0.321771</td>\n",
       "      <td>1.000000</td>\n",
       "      <td>-0.064289</td>\n",
       "      <td>-0.291888</td>\n",
       "      <td>0.012403</td>\n",
       "      <td>-0.002663</td>\n",
       "      <td>0.001380</td>\n",
       "      <td>-0.320581</td>\n",
       "      <td>0.121457</td>\n",
       "    </tr>\n",
       "    <tr>\n",
       "      <th>cylinders</th>\n",
       "      <td>-0.002868</td>\n",
       "      <td>-0.002868</td>\n",
       "      <td>0.332013</td>\n",
       "      <td>-0.127507</td>\n",
       "      <td>-0.064289</td>\n",
       "      <td>1.000000</td>\n",
       "      <td>0.089723</td>\n",
       "      <td>0.413070</td>\n",
       "      <td>0.002939</td>\n",
       "      <td>-0.004934</td>\n",
       "      <td>0.127119</td>\n",
       "      <td>-0.036082</td>\n",
       "    </tr>\n",
       "    <tr>\n",
       "      <th>odometer</th>\n",
       "      <td>0.031750</td>\n",
       "      <td>0.031748</td>\n",
       "      <td>-0.458849</td>\n",
       "      <td>-0.542775</td>\n",
       "      <td>-0.291888</td>\n",
       "      <td>0.089723</td>\n",
       "      <td>1.000000</td>\n",
       "      <td>0.031381</td>\n",
       "      <td>0.004453</td>\n",
       "      <td>0.001011</td>\n",
       "      <td>0.540838</td>\n",
       "      <td>0.055335</td>\n",
       "    </tr>\n",
       "    <tr>\n",
       "      <th>is_4wd</th>\n",
       "      <td>-0.001955</td>\n",
       "      <td>-0.001958</td>\n",
       "      <td>0.344006</td>\n",
       "      <td>0.018453</td>\n",
       "      <td>0.012403</td>\n",
       "      <td>0.413070</td>\n",
       "      <td>0.031381</td>\n",
       "      <td>1.000000</td>\n",
       "      <td>0.002493</td>\n",
       "      <td>0.004107</td>\n",
       "      <td>-0.018557</td>\n",
       "      <td>0.041501</td>\n",
       "    </tr>\n",
       "    <tr>\n",
       "      <th>days_listed</th>\n",
       "      <td>0.007812</td>\n",
       "      <td>0.007812</td>\n",
       "      <td>-0.002872</td>\n",
       "      <td>-0.003544</td>\n",
       "      <td>-0.002663</td>\n",
       "      <td>0.002939</td>\n",
       "      <td>0.004453</td>\n",
       "      <td>0.002493</td>\n",
       "      <td>1.000000</td>\n",
       "      <td>0.002644</td>\n",
       "      <td>0.004445</td>\n",
       "      <td>-0.002114</td>\n",
       "    </tr>\n",
       "    <tr>\n",
       "      <th>day_posted</th>\n",
       "      <td>-0.003127</td>\n",
       "      <td>-0.003127</td>\n",
       "      <td>0.001396</td>\n",
       "      <td>-0.000623</td>\n",
       "      <td>0.001380</td>\n",
       "      <td>-0.004934</td>\n",
       "      <td>0.001011</td>\n",
       "      <td>0.004107</td>\n",
       "      <td>0.002644</td>\n",
       "      <td>1.000000</td>\n",
       "      <td>-0.000018</td>\n",
       "      <td>0.001426</td>\n",
       "    </tr>\n",
       "    <tr>\n",
       "      <th>age_posted</th>\n",
       "      <td>0.028533</td>\n",
       "      <td>0.028531</td>\n",
       "      <td>-0.528943</td>\n",
       "      <td>-0.996486</td>\n",
       "      <td>-0.320581</td>\n",
       "      <td>0.127119</td>\n",
       "      <td>0.540838</td>\n",
       "      <td>-0.018557</td>\n",
       "      <td>0.004445</td>\n",
       "      <td>-0.000018</td>\n",
       "      <td>1.000000</td>\n",
       "      <td>-0.501665</td>\n",
       "    </tr>\n",
       "    <tr>\n",
       "      <th>km_by_year</th>\n",
       "      <td>-0.008281</td>\n",
       "      <td>-0.008279</td>\n",
       "      <td>0.267694</td>\n",
       "      <td>0.493889</td>\n",
       "      <td>0.121457</td>\n",
       "      <td>-0.036082</td>\n",
       "      <td>0.055335</td>\n",
       "      <td>0.041501</td>\n",
       "      <td>-0.002114</td>\n",
       "      <td>0.001426</td>\n",
       "      <td>-0.501665</td>\n",
       "      <td>1.000000</td>\n",
       "    </tr>\n",
       "  </tbody>\n",
       "</table>\n",
       "</div>"
      ],
      "text/plain": [
       "              level_0     index     price  model_year  condition  cylinders  \\\n",
       "level_0      1.000000  1.000000 -0.023439   -0.028555  -0.005251  -0.002868   \n",
       "index        1.000000  1.000000 -0.023440   -0.028553  -0.005250  -0.002868   \n",
       "price       -0.023439 -0.023440  1.000000    0.530674   0.240847   0.332013   \n",
       "model_year  -0.028555 -0.028553  0.530674    1.000000   0.321771  -0.127507   \n",
       "condition   -0.005251 -0.005250  0.240847    0.321771   1.000000  -0.064289   \n",
       "cylinders   -0.002868 -0.002868  0.332013   -0.127507  -0.064289   1.000000   \n",
       "odometer     0.031750  0.031748 -0.458849   -0.542775  -0.291888   0.089723   \n",
       "is_4wd      -0.001955 -0.001958  0.344006    0.018453   0.012403   0.413070   \n",
       "days_listed  0.007812  0.007812 -0.002872   -0.003544  -0.002663   0.002939   \n",
       "day_posted  -0.003127 -0.003127  0.001396   -0.000623   0.001380  -0.004934   \n",
       "age_posted   0.028533  0.028531 -0.528943   -0.996486  -0.320581   0.127119   \n",
       "km_by_year  -0.008281 -0.008279  0.267694    0.493889   0.121457  -0.036082   \n",
       "\n",
       "             odometer    is_4wd  days_listed  day_posted  age_posted  \\\n",
       "level_0      0.031750 -0.001955     0.007812   -0.003127    0.028533   \n",
       "index        0.031748 -0.001958     0.007812   -0.003127    0.028531   \n",
       "price       -0.458849  0.344006    -0.002872    0.001396   -0.528943   \n",
       "model_year  -0.542775  0.018453    -0.003544   -0.000623   -0.996486   \n",
       "condition   -0.291888  0.012403    -0.002663    0.001380   -0.320581   \n",
       "cylinders    0.089723  0.413070     0.002939   -0.004934    0.127119   \n",
       "odometer     1.000000  0.031381     0.004453    0.001011    0.540838   \n",
       "is_4wd       0.031381  1.000000     0.002493    0.004107   -0.018557   \n",
       "days_listed  0.004453  0.002493     1.000000    0.002644    0.004445   \n",
       "day_posted   0.001011  0.004107     0.002644    1.000000   -0.000018   \n",
       "age_posted   0.540838 -0.018557     0.004445   -0.000018    1.000000   \n",
       "km_by_year   0.055335  0.041501    -0.002114    0.001426   -0.501665   \n",
       "\n",
       "             km_by_year  \n",
       "level_0       -0.008281  \n",
       "index         -0.008279  \n",
       "price          0.267694  \n",
       "model_year     0.493889  \n",
       "condition      0.121457  \n",
       "cylinders     -0.036082  \n",
       "odometer       0.055335  \n",
       "is_4wd         0.041501  \n",
       "days_listed   -0.002114  \n",
       "day_posted     0.001426  \n",
       "age_posted    -0.501665  \n",
       "km_by_year     1.000000  "
      ]
     },
     "execution_count": 68,
     "metadata": {},
     "output_type": "execute_result"
    }
   ],
   "source": [
    "df_final.corr()\n",
    "#Verificando correlação dos dados corrigidos."
   ]
  },
  {
   "cell_type": "markdown",
   "metadata": {},
   "source": [
    "## Média de preços por cada tipo de veículo"
   ]
  },
  {
   "cell_type": "markdown",
   "metadata": {},
   "source": [
    "Analisando o número de propagandas e o preço médio para cada tipo de veículo."
   ]
  },
  {
   "cell_type": "code",
   "execution_count": 69,
   "metadata": {},
   "outputs": [
    {
     "data": {
      "text/plain": [
       "SUV            12379\n",
       "truck          12285\n",
       "sedan          12125\n",
       "pickup          6932\n",
       "coupe           2176\n",
       "wagon           1539\n",
       "mini-van        1159\n",
       "hatchback       1043\n",
       "van              630\n",
       "convertible      413\n",
       "other            252\n",
       "offroad          212\n",
       "bus               24\n",
       "Name: type, dtype: int64"
      ]
     },
     "execution_count": 69,
     "metadata": {},
     "output_type": "execute_result"
    }
   ],
   "source": [
    "#Os dois principais são SUV e truck.\n",
    "df_final['type'].value_counts()"
   ]
  },
  {
   "cell_type": "code",
   "execution_count": 70,
   "metadata": {},
   "outputs": [
    {
     "data": {
      "text/html": [
       "<div>\n",
       "<style scoped>\n",
       "    .dataframe tbody tr th:only-of-type {\n",
       "        vertical-align: middle;\n",
       "    }\n",
       "\n",
       "    .dataframe tbody tr th {\n",
       "        vertical-align: top;\n",
       "    }\n",
       "\n",
       "    .dataframe thead th {\n",
       "        text-align: right;\n",
       "    }\n",
       "</style>\n",
       "<table border=\"1\" class=\"dataframe\">\n",
       "  <thead>\n",
       "    <tr style=\"text-align: right;\">\n",
       "      <th></th>\n",
       "      <th>price</th>\n",
       "    </tr>\n",
       "    <tr>\n",
       "      <th>type</th>\n",
       "      <th></th>\n",
       "    </tr>\n",
       "  </thead>\n",
       "  <tbody>\n",
       "    <tr>\n",
       "      <th>SUV</th>\n",
       "      <td>8995.0</td>\n",
       "    </tr>\n",
       "    <tr>\n",
       "      <th>bus</th>\n",
       "      <td>10500.0</td>\n",
       "    </tr>\n",
       "    <tr>\n",
       "      <th>convertible</th>\n",
       "      <td>11900.0</td>\n",
       "    </tr>\n",
       "    <tr>\n",
       "      <th>coupe</th>\n",
       "      <td>13990.0</td>\n",
       "    </tr>\n",
       "    <tr>\n",
       "      <th>hatchback</th>\n",
       "      <td>5997.0</td>\n",
       "    </tr>\n",
       "    <tr>\n",
       "      <th>mini-van</th>\n",
       "      <td>6500.0</td>\n",
       "    </tr>\n",
       "    <tr>\n",
       "      <th>offroad</th>\n",
       "      <td>11800.0</td>\n",
       "    </tr>\n",
       "    <tr>\n",
       "      <th>other</th>\n",
       "      <td>8995.0</td>\n",
       "    </tr>\n",
       "    <tr>\n",
       "      <th>pickup</th>\n",
       "      <td>14500.0</td>\n",
       "    </tr>\n",
       "    <tr>\n",
       "      <th>sedan</th>\n",
       "      <td>6100.0</td>\n",
       "    </tr>\n",
       "    <tr>\n",
       "      <th>truck</th>\n",
       "      <td>15900.0</td>\n",
       "    </tr>\n",
       "    <tr>\n",
       "      <th>van</th>\n",
       "      <td>8462.5</td>\n",
       "    </tr>\n",
       "    <tr>\n",
       "      <th>wagon</th>\n",
       "      <td>7900.0</td>\n",
       "    </tr>\n",
       "  </tbody>\n",
       "</table>\n",
       "</div>"
      ],
      "text/plain": [
       "               price\n",
       "type                \n",
       "SUV           8995.0\n",
       "bus          10500.0\n",
       "convertible  11900.0\n",
       "coupe        13990.0\n",
       "hatchback     5997.0\n",
       "mini-van      6500.0\n",
       "offroad      11800.0\n",
       "other         8995.0\n",
       "pickup       14500.0\n",
       "sedan         6100.0\n",
       "truck        15900.0\n",
       "van           8462.5\n",
       "wagon         7900.0"
      ]
     },
     "execution_count": 70,
     "metadata": {},
     "output_type": "execute_result"
    }
   ],
   "source": [
    "#Construindo uma tabela dinâmica com a mediana dos preços a partir do tipo de carro.\n",
    "df_final.pivot_table(index='type', values='price', aggfunc='median')"
   ]
  },
  {
   "cell_type": "code",
   "execution_count": 71,
   "metadata": {},
   "outputs": [
    {
     "data": {
      "text/plain": [
       "<AxesSubplot:>"
      ]
     },
     "execution_count": 71,
     "metadata": {},
     "output_type": "execute_result"
    },
    {
     "data": {
      "image/png": "[encoded data removed]",
      "text/plain": [
       "<Figure size 640x480 with 1 Axes>"
      ]
     },
     "metadata": {},
     "output_type": "display_data"
    }
   ],
   "source": [
    "#Imprimindo gráfico de barras.\n",
    "df_final['type'].value_counts().plot.bar()"
   ]
  },
  {
   "cell_type": "markdown",
   "metadata": {},
   "source": [
    "## Fatores de preço"
   ]
  },
  {
   "cell_type": "markdown",
   "metadata": {},
   "source": [
    "Construindo gráficos para entender quais fatores impactam mais o preço, dentro dos parâmetros da idade, quilometragem, condição, tipo de transmissão e cor. Para as variáveis categóricas foram usados gráficos de caixa, e para o restante gráficos de dispersão."
   ]
  },
  {
   "cell_type": "code",
   "execution_count": 72,
   "metadata": {},
   "outputs": [
    {
     "data": {
      "image/png": "[encoded data removed]",
      "text/plain": [
       "<Figure size 640x480 with 1 Axes>"
      ]
     },
     "metadata": {},
     "output_type": "display_data"
    }
   ],
   "source": [
    "plt.scatter(df['price'], df['odometer'])\n",
    "plt.title('Gráfico de Dispersão entre preço e quilometragem')\n",
    "plt.show()\n",
    "#Utilizando gráfico de Dispersão entre preço e quilometragem."
   ]
  },
  {
   "cell_type": "code",
   "execution_count": 73,
   "metadata": {},
   "outputs": [
    {
     "data": {
      "image/png": "[encoded data removed]",
      "text/plain": [
       "<Figure size 640x480 with 1 Axes>"
      ]
     },
     "metadata": {},
     "output_type": "display_data"
    }
   ],
   "source": [
    "plt.scatter(df['price'], df['age_posted'])\n",
    "plt.title('Gráfico de Dispersão entre preço e idade')\n",
    "plt.show()\n",
    "#Utilizando gráfico de Dispersão entre preço e idade."
   ]
  },
  {
   "cell_type": "code",
   "execution_count": 74,
   "metadata": {},
   "outputs": [
    {
     "data": {
      "image/png": "[encoded data removed]",
      "text/plain": [
       "<Figure size 640x480 with 1 Axes>"
      ]
     },
     "metadata": {},
     "output_type": "display_data"
    }
   ],
   "source": [
    "plt.scatter(df['price'], df['condition'])\n",
    "plt.title('Gráfico de Dispersão entre preço e condição')\n",
    "plt.show()\n",
    "#Utilizando gráfico de Dispersão entre preço e condição."
   ]
  },
  {
   "cell_type": "code",
   "execution_count": 75,
   "metadata": {
    "scrolled": true
   },
   "outputs": [
    {
     "data": {
      "text/plain": [
       "(0.0, 50000.0)"
      ]
     },
     "execution_count": 75,
     "metadata": {},
     "output_type": "execute_result"
    },
    {
     "data": {
      "image/png": "[encoded data removed]",
      "text/plain": [
       "<Figure size 640x480 with 1 Axes>"
      ]
     },
     "metadata": {},
     "output_type": "display_data"
    }
   ],
   "source": [
    "color_pivot= df_final.pivot_table(index='level_0', columns='paint_color', values='price', aggfunc='mean')\n",
    "color_pivot.boxplot()\n",
    "plt.ylim(0,50000)\n",
    "#Utilizando gráfico de caixa entre cores e quantidade."
   ]
  },
  {
   "cell_type": "code",
   "execution_count": 76,
   "metadata": {},
   "outputs": [
    {
     "data": {
      "text/plain": [
       "paint_color\n",
       "black      7664\n",
       "blue       4432\n",
       "brown      1206\n",
       "custom     1137\n",
       "green      1379\n",
       "grey       5030\n",
       "orange      222\n",
       "purple      101\n",
       "red        4375\n",
       "silver     6215\n",
       "unknown    9203\n",
       "white      9966\n",
       "yellow      239\n",
       "dtype: int64"
      ]
     },
     "execution_count": 76,
     "metadata": {},
     "output_type": "execute_result"
    }
   ],
   "source": [
    "#Contando quantas cores, para saber se o gráfico é fidedigno.\n",
    "color_pivot.count()"
   ]
  },
  {
   "cell_type": "code",
   "execution_count": 77,
   "metadata": {},
   "outputs": [
    {
     "data": {
      "text/plain": [
       "(0.0, 50000.0)"
      ]
     },
     "execution_count": 77,
     "metadata": {},
     "output_type": "execute_result"
    },
    {
     "data": {
      "image/png": "[encoded data removed]",
      "text/plain": [
       "<Figure size 640x480 with 1 Axes>"
      ]
     },
     "metadata": {},
     "output_type": "display_data"
    }
   ],
   "source": [
    "transmission_pivot= df_final.pivot_table(index='level_0', columns='transmission', values='price', aggfunc='mean')\n",
    "transmission_pivot.boxplot()\n",
    "plt.ylim(0,50000)\n",
    "#Gráfico de caixa para distribuição de tipos de transmissão."
   ]
  },
  {
   "cell_type": "code",
   "execution_count": 78,
   "metadata": {},
   "outputs": [
    {
     "data": {
      "text/plain": [
       "transmission\n",
       "automatic    46614\n",
       "manual        2764\n",
       "other         1791\n",
       "dtype: int64"
      ]
     },
     "execution_count": 78,
     "metadata": {},
     "output_type": "execute_result"
    }
   ],
   "source": [
    "transmission_pivot.count()\n",
    "#Contagem para saber se os gráficos são fidedignos."
   ]
  },
  {
   "cell_type": "code",
   "execution_count": 79,
   "metadata": {},
   "outputs": [
    {
     "name": "stdout",
     "output_type": "stream",
     "text": [
      "<class 'pandas.core.frame.DataFrame'>\n",
      "Int64Index: 51169 entries, 0 to 51392\n",
      "Data columns (total 18 columns):\n",
      " #   Column        Non-Null Count  Dtype         \n",
      "---  ------        --------------  -----         \n",
      " 0   level_0       51169 non-null  int64         \n",
      " 1   index         51169 non-null  int64         \n",
      " 2   price         51169 non-null  float64       \n",
      " 3   model_year    51169 non-null  int32         \n",
      " 4   model         51169 non-null  object        \n",
      " 5   condition     51169 non-null  int64         \n",
      " 6   cylinders     51169 non-null  int32         \n",
      " 7   fuel          51169 non-null  object        \n",
      " 8   odometer      51169 non-null  float64       \n",
      " 9   transmission  51169 non-null  object        \n",
      " 10  type          51169 non-null  object        \n",
      " 11  paint_color   51169 non-null  object        \n",
      " 12  is_4wd        51169 non-null  bool          \n",
      " 13  date_posted   51169 non-null  datetime64[ns]\n",
      " 14  days_listed   51169 non-null  int64         \n",
      " 15  day_posted    51169 non-null  int64         \n",
      " 16  age_posted    51169 non-null  int64         \n",
      " 17  km_by_year    51169 non-null  float64       \n",
      "dtypes: bool(1), datetime64[ns](1), float64(3), int32(2), int64(6), object(5)\n",
      "memory usage: 6.7+ MB\n"
     ]
    }
   ],
   "source": [
    "#Observando os dados uma última vez.\n",
    "df_final.info()"
   ]
  },
  {
   "cell_type": "markdown",
   "metadata": {},
   "source": [
    "# Conclusão geral\n",
    "\n",
    "\n",
    "## Tratamento de dados\n",
    "\n",
    "### Identificando e Estudando os valores ausentes\n",
    "\n",
    "#### Os valores ausentes foram analisados e essas foram as conclusões para cada coluna:\n",
    "\n",
    "- Para model_year foram estimadas as linhas ausentes utilizando a condição do carro, pois possuem correlação forte.\n",
    "- Para cylinders foi utilizado a comparação com o mesmo modelo do carro, do mesmo ano no dataframe, e nos casos onde não haviam, foram utilizados apenas o modelo do carro.\n",
    "- Para odometer a relação mais próxima era com a coluna model_year, então foi calculada de acordo com a faixa de idade do modelo do carro.\n",
    "- Em paint_color os valores ausentes foram preenchidos com 'unknow', pois não haveria como saber a cor do veículo.\n",
    "- Em is_4wd os valores foram transformados em booleanos.\n",
    "\n",
    "### Corrigindo outros tipos de dados\n",
    "\n",
    "#### Algumas colunas estavam com o tipo de dado incorreto:\n",
    "\n",
    "- model_year foi transferido de float para int.\n",
    "- cylinders foi transferido de float para int.\n",
    "- date_posted foi transferido de object para datetime.\n",
    "\n",
    "## Enriquecendo os dados\n",
    "\n",
    "### Criando colunas para facilitar a análise dos dados\n",
    "\n",
    "#### Adequando em cálculos e formatando os dados para novas colunas:\n",
    "\n",
    "- day_posted é o dia da semana em que a propaganda foi postada, extraído da coluna de 'date_posted'.\n",
    "- age_posted é a idade do carro quando a propaganda foi postada, calculada com a diferença do ano da propaganda e o ano do modelo do carro.\n",
    "- km_by_year é a quilometragem do carro por ano e foi calculada pela divisão do odômetro e idade do carro, posteriormente recebeu correção de quando o carro não possuia um ano ainda, pois gerava resultado infinito e mudou para a quilometragem percorrida pelo carro no ano.\n",
    "\n",
    "## Verificando os dados limpos\n",
    "\n",
    "### Analisando colunas com valores absurdos\n",
    "\n",
    "#### Corrigindo valores altos ou baixos de mais:\n",
    "\n",
    "- Em price existem 798 linhas de carros com preço igual a 1, o que é inacreditável para o valor de um automóvel, outros valores minúsculos também são encontrados. Então, são corrigidos com base no tipo e ano do modelo do carro, os quais possuem forte correlação com o valor do automóvel.\n",
    "\n",
    "- No odômetro são encontrado valores que nenhum carro suportaria percorrer, então é substituída pela mediana de quilometragem de uma faixa da idade do modelo do carro, pois é descrito na função .corr() que possuem forte correlação.\n",
    "\n",
    "- Em cylinders foram utilizados os modelos de carro e seus respectivos anos para completar os dados faltantes.\n",
    "\n",
    "## Estudando os parâmetros fundamentais do dataframe\n",
    "\n",
    "### Entendendo como os dados das propagandas se relacionam e quais conclusões podem-se tirar disso\n",
    "\n",
    "#### Utilizando as tabelas para associar visualmente a relação entre os dados, gerando conclusões:\n",
    "\n",
    "- SUV, TRUCK, sedan tem o maior número de propagandas.\n",
    "- Utilizando o gráfico de dispersão com os parâmetros de velocidade e preço, é deduzível que os maiores preços se concentram em carros com quilometragem baixa, e carros com quilometragem alta tendem a ter o preço menor.\n",
    "- O mesmo acontece com a idade do carro, quanto mais novo, maior seu preço.\n",
    "- Sobre a condição, é notável pelo gráfico de dispersão criado que carros com condição ruim tem o preço bem mais reduzido.\n",
    "- Quando se avaliam as cores, é perceptível que a mediana de preço dos carros na cor amarela é elevada, e os carros laranjas tendem a serem mais caros também.\n",
    "- Quanto a transmissão, os automáticos são ligeramente mais caros que os manuais, e os carros com a classificação outros, são bem maiores, por serem CVT ou câmbio automático de duas embreagens.\n",
    "- Todos os dados utilizados para fazer o estudo do caso possuiam uma contagem maior que 50 para manter os cálculos fidedignos ao campo amostral."
   ]
  }
 ],
 "metadata": {
  "ExecuteTimeLog": [
   {
    "duration": 828,
    "start_time": "2021-11-16T09:21:11.304Z"
   },
   {
    "duration": 893,
    "start_time": "2021-11-16T09:21:17.728Z"
   },
   {
    "duration": 1150,
    "start_time": "2021-11-16T09:21:29.568Z"
   },
   {
    "duration": 3,
    "start_time": "2021-11-16T09:24:14.495Z"
   },
   {
    "duration": 120,
    "start_time": "2021-11-16T09:24:46.630Z"
   },
   {
    "duration": 3,
    "start_time": "2021-11-16T09:28:27.882Z"
   },
   {
    "duration": 4,
    "start_time": "2021-11-16T09:29:54.281Z"
   },
   {
    "duration": 3,
    "start_time": "2021-11-16T09:30:45.936Z"
   },
   {
    "duration": 4,
    "start_time": "2021-11-16T09:31:06.300Z"
   },
   {
    "duration": 113,
    "start_time": "2021-11-16T09:31:37.208Z"
   },
   {
    "duration": 143,
    "start_time": "2021-11-16T09:31:48.656Z"
   },
   {
    "duration": 98,
    "start_time": "2021-11-16T09:31:55.678Z"
   },
   {
    "duration": 3,
    "start_time": "2021-11-16T09:32:08.535Z"
   },
   {
    "duration": 111,
    "start_time": "2021-11-16T09:32:10.120Z"
   },
   {
    "duration": 3,
    "start_time": "2021-11-16T09:32:15.732Z"
   },
   {
    "duration": 4,
    "start_time": "2021-11-16T09:32:29.423Z"
   },
   {
    "duration": 3,
    "start_time": "2021-11-16T10:03:03.074Z"
   },
   {
    "duration": 3,
    "start_time": "2021-11-16T10:10:01.288Z"
   },
   {
    "duration": 3,
    "start_time": "2021-11-16T10:10:46.923Z"
   },
   {
    "duration": 121,
    "start_time": "2021-11-16T10:37:46.494Z"
   },
   {
    "duration": 125,
    "start_time": "2021-11-16T10:38:20.632Z"
   },
   {
    "duration": 112,
    "start_time": "2021-11-16T10:46:53.001Z"
   },
   {
    "duration": 110,
    "start_time": "2021-11-16T10:48:25.775Z"
   },
   {
    "duration": 3,
    "start_time": "2021-11-16T10:50:18.720Z"
   },
   {
    "duration": 4,
    "start_time": "2021-11-16T10:50:37.649Z"
   },
   {
    "duration": 2,
    "start_time": "2021-11-16T10:50:51.884Z"
   },
   {
    "duration": 3,
    "start_time": "2021-11-16T10:51:56.237Z"
   },
   {
    "duration": 101,
    "start_time": "2021-11-16T10:53:13.791Z"
   },
   {
    "duration": 3,
    "start_time": "2021-11-16T10:55:59.186Z"
   },
   {
    "duration": 3,
    "start_time": "2021-11-16T10:56:10.751Z"
   },
   {
    "duration": 3,
    "start_time": "2021-11-16T10:56:49.038Z"
   },
   {
    "duration": 3,
    "start_time": "2021-11-16T10:56:49.174Z"
   },
   {
    "duration": 4,
    "start_time": "2021-11-16T10:56:49.414Z"
   },
   {
    "duration": 3,
    "start_time": "2021-11-16T10:56:49.680Z"
   },
   {
    "duration": 3,
    "start_time": "2021-11-16T10:56:50.370Z"
   },
   {
    "duration": 114,
    "start_time": "2021-11-16T10:59:34.518Z"
   },
   {
    "duration": 3,
    "start_time": "2021-11-16T11:01:41.201Z"
   },
   {
    "duration": 116,
    "start_time": "2021-11-16T11:01:48.754Z"
   },
   {
    "duration": 3,
    "start_time": "2021-11-16T11:02:16.685Z"
   },
   {
    "duration": 3,
    "start_time": "2021-11-16T11:02:19.479Z"
   },
   {
    "duration": 3,
    "start_time": "2021-11-16T11:02:47.067Z"
   },
   {
    "duration": 3,
    "start_time": "2021-11-16T11:02:49.353Z"
   },
   {
    "duration": 3,
    "start_time": "2021-11-16T11:03:07.835Z"
   },
   {
    "duration": 3,
    "start_time": "2021-11-16T11:03:07.953Z"
   },
   {
    "duration": 112,
    "start_time": "2021-11-16T11:07:52.072Z"
   },
   {
    "duration": 187,
    "start_time": "2021-11-16T11:09:23.468Z"
   },
   {
    "duration": 4,
    "start_time": "2021-11-16T11:10:01.455Z"
   },
   {
    "duration": 3,
    "start_time": "2021-11-16T11:10:05.069Z"
   },
   {
    "duration": 4,
    "start_time": "2021-11-16T11:10:13.376Z"
   },
   {
    "duration": 3,
    "start_time": "2021-11-16T11:10:14.434Z"
   },
   {
    "duration": 3,
    "start_time": "2021-11-16T11:10:22.853Z"
   },
   {
    "duration": 4,
    "start_time": "2021-11-16T11:27:29.279Z"
   },
   {
    "duration": 4,
    "start_time": "2021-11-16T11:29:08.919Z"
   },
   {
    "duration": 118,
    "start_time": "2021-11-16T11:29:46.703Z"
   },
   {
    "duration": 437,
    "start_time": "2021-11-16T11:36:02.181Z"
   },
   {
    "duration": 157,
    "start_time": "2021-11-16T11:36:14.388Z"
   },
   {
    "duration": 207,
    "start_time": "2021-11-16T11:47:15.898Z"
   },
   {
    "duration": 3,
    "start_time": "2021-11-16T11:53:52.092Z"
   },
   {
    "duration": 3,
    "start_time": "2021-11-16T11:53:52.236Z"
   },
   {
    "duration": 3,
    "start_time": "2021-11-16T11:59:12.005Z"
   },
   {
    "duration": 112,
    "start_time": "2021-11-16T12:00:33.446Z"
   },
   {
    "duration": 3,
    "start_time": "2021-11-16T12:02:14.453Z"
   },
   {
    "duration": 3,
    "start_time": "2021-11-16T12:02:39.512Z"
   },
   {
    "duration": 106,
    "start_time": "2021-11-16T12:03:03.460Z"
   }
  ],
  "kernelspec": {
   "display_name": "Python 3 (ipykernel)",
   "language": "python",
   "name": "python3"
  },
  "language_info": {
   "codemirror_mode": {
    "name": "ipython",
    "version": 3
   },
   "file_extension": ".py",
   "mimetype": "text/x-python",
   "name": "python",
   "nbconvert_exporter": "python",
   "pygments_lexer": "ipython3",
   "version": "3.9.12"
  },
  "toc": {
   "base_numbering": 1,
   "nav_menu": {},
   "number_sections": true,
   "sideBar": true,
   "skip_h1_title": false,
   "title_cell": "Table of Contents",
   "title_sidebar": "Contents",
   "toc_cell": false,
   "toc_position": {},
   "toc_section_display": true,
   "toc_window_display": true
  }
 },
 "nbformat": 4,
 "nbformat_minor": 2
}
